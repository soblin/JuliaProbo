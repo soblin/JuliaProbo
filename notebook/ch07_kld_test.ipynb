{
 "cells": [
  {
   "cell_type": "code",
   "execution_count": null,
   "id": "about-operation",
   "metadata": {},
   "outputs": [],
   "source": [
    "using Pkg\n",
    "if isfile(\"../Project.toml\") && isfile(\"../Manifest.toml\")\n",
    "    Pkg.activate(\"..\");\n",
    "    ENV[\"PYTHON\"] = \"python3\";\n",
    "end\n",
    "\n",
    "function printer(x::Any, verbose=\"\")\n",
    "    if verbose != \"\"\n",
    "        println(verbose)\n",
    "    end\n",
    "    show(stdout, \"text/plain\", x)\n",
    "    println(\"\")\n",
    "end\n",
    "\n",
    "using Plots, Random, Distributions, LinearAlgebra, JuliaProbo\n",
    "gr();"
   ]
  },
  {
   "cell_type": "code",
   "execution_count": null,
   "id": "timely-boxing",
   "metadata": {},
   "outputs": [],
   "source": [
    "using StatsFuns\n",
    "function num(ϵ::Float64, δ::Float64, binnum::Int64)\n",
    "    return ceil(chisqinvcdf(binnum-1, (1.0 - δ)) / (2 * ϵ))\n",
    "end\n",
    "n = [num(0.1, 0.01, b) for b in 2:9]\n",
    "plots = []\n",
    "p = plot(2:9, n, legend=nothing, title=\"bin: 2-10\", color=\"blue\", lw=2)\n",
    "push!(plots, p)\n",
    "n = [num(0.1, 0.01, b) for b in 2:100000]\n",
    "p = plot(2:100000, n, legend=nothing, title=\"bin: 2-100000\", color=\"blue\", lw=2)\n",
    "push!(plots, p)\n",
    "plot(plots[1], plots[2])\n",
    "savefig(\"images/ch07_kdl_test.png\")"
   ]
  }
 ],
 "metadata": {
  "kernelspec": {
   "display_name": "Julia 1.5.3",
   "language": "julia",
   "name": "julia-1.5"
  },
  "language_info": {
   "file_extension": ".jl",
   "mimetype": "application/julia",
   "name": "julia",
   "version": "1.5.3"
  }
 },
 "nbformat": 4,
 "nbformat_minor": 5
}
