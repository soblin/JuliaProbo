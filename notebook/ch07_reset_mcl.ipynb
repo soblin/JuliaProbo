{
 "cells": [
  {
   "cell_type": "code",
   "execution_count": null,
   "id": "about-operation",
   "metadata": {},
   "outputs": [],
   "source": [
    "using Pkg\n",
    "if isfile(\"../Project.toml\") && isfile(\"../Manifest.toml\")\n",
    "    Pkg.activate(\"..\");\n",
    "    ENV[\"PYTHON\"] = \"python3\";\n",
    "end\n",
    "\n",
    "function printer(x::Any, verbose=\"\")\n",
    "    if verbose != \"\"\n",
    "        println(verbose)\n",
    "    end\n",
    "    show(stdout, \"text/plain\", x)\n",
    "    println(\"\")\n",
    "end\n",
    "\n",
    "using Plots, Random, Distributions, LinearAlgebra, JuliaProbo\n",
    "gr();"
   ]
  },
  {
   "cell_type": "code",
   "execution_count": null,
   "id": "timely-boxing",
   "metadata": {},
   "outputs": [],
   "source": [
    "function ch07_reset_mcl()\n",
    "    dt = 0.1\n",
    "    # environment\n",
    "    xlim = [-5.0, 5.0]\n",
    "    ylim = [-5.0, 5.0]\n",
    "    # id of landmark must start from 0 with 1 step\n",
    "    landmarks = [Landmark([2.0, -3.0], 0), Landmark([3.0, 3.0], 1), Landmark([-4.0, 2.0], 2)]\n",
    "    envmap = Map()\n",
    "    push!(envmap, landmarks)\n",
    "    world = World(xlim, ylim)\n",
    "    push!(world, envmap)\n",
    "    # robot side\n",
    "    initial_pose = [0.0, 0.0, 0.0]\n",
    "    estimator = ResetMcl(initial_pose, 100)\n",
    "    circling_agent = EstimatorAgent(0.2, 10.0*pi/180, dt, estimator)\n",
    "    robot = RealRobot(initial_pose, circling_agent, RealCamera(landmarks); color=\"red\")\n",
    "    push!(world, robot)\n",
    "    for i in 1:400\n",
    "        t = dt * i\n",
    "        annota = \"t = $(round(t, sigdigits=3))[s]\"\n",
    "        p = draw(world, annota)\n",
    "        z = observations(robot.sensor_, robot.pose_; noise=true, bias=true)\n",
    "        v, ω = decision(circling_agent, z, envmap)\n",
    "        state_transition(robot, v, ω, dt; move_noise=true, vel_bias_noise=true)\n",
    "    end\n",
    "    return estimator\n",
    "end"
   ]
  },
  {
   "cell_type": "code",
   "execution_count": 3,
   "id": "confused-discharge",
   "metadata": {},
   "outputs": [
    {
     "name": "stdout",
     "output_type": "stream",
     "text": [
      "landmarks: 0, particles: 32, min: 1.0, max: 1.0\n",
      "landmarks: 2, particles: 29, min: 1.28067257497397, max: 15.273529487606494\n",
      "landmarks: 1, particles: 339, min: 0.03773932519092325, max: 7.046820874889272\n"
     ]
    }
   ],
   "source": [
    "pf = ch07_reset_mcl();\n",
    "for (num, αs) in pf.αs_\n",
    "    println(\"landmarks: $(num), particles: $(length(αs)), min: $(minimum(αs)), max: $(maximum(αs))\")\n",
    "end"
   ]
  },
  {
   "cell_type": "code",
   "execution_count": 4,
   "id": "blocked-behalf",
   "metadata": {},
   "outputs": [
    {
     "name": "stdout",
     "output_type": "stream",
     "text": [
      "landmarks: 0, particles: 26, min: 1.0, max: 1.0\n",
      "landmarks: 2, particles: 22, min: 0.07785454040706033, max: 18.021915099557784\n",
      "landmarks: 1, particles: 352, min: 0.04407000829322419, max: 4.652508701938139\n"
     ]
    }
   ],
   "source": [
    "pf = ch07_reset_mcl();\n",
    "for (num, αs) in pf.αs_\n",
    "    println(\"landmarks: $(num), particles: $(length(αs)), min: $(minimum(αs)), max: $(maximum(αs))\")\n",
    "end"
   ]
  },
  {
   "cell_type": "code",
   "execution_count": 5,
   "id": "iraqi-portuguese",
   "metadata": {},
   "outputs": [
    {
     "name": "stdout",
     "output_type": "stream",
     "text": [
      "landmarks: 0, particles: 15, min: 1.0, max: 1.0\n",
      "landmarks: 2, particles: 20, min: 3.8526803520377366, max: 17.567230931880502\n",
      "landmarks: 1, particles: 365, min: 0.26574324738821514, max: 6.1272225244889365\n"
     ]
    }
   ],
   "source": [
    "pf = ch07_reset_mcl();\n",
    "for (num, αs) in pf.αs_\n",
    "    println(\"landmarks: $(num), particles: $(length(αs)), min: $(minimum(αs)), max: $(maximum(αs))\")\n",
    "end"
   ]
  }
 ],
 "metadata": {
  "kernelspec": {
   "display_name": "Julia 1.6.0",
   "language": "julia",
   "name": "julia-1.6"
  },
  "language_info": {
   "file_extension": ".jl",
   "mimetype": "application/julia",
   "name": "julia",
   "version": "1.6.0"
  }
 },
 "nbformat": 4,
 "nbformat_minor": 5
}
