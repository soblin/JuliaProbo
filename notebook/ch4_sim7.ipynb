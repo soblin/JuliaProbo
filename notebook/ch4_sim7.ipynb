{
 "cells": [
  {
   "cell_type": "code",
   "execution_count": null,
   "id": "about-operation",
   "metadata": {},
   "outputs": [],
   "source": [
    "using Pkg\n",
    "if isfile(\"../Project.toml\") && isfile(\"../Manifest.toml\")\n",
    "    Pkg.activate(\"..\");\n",
    "end\n",
    "\n",
    "function printer(x::Any, verbose=\"\")\n",
    "    if verbose != \"\"\n",
    "        println(verbose)\n",
    "    end\n",
    "    show(stdout, \"text/plain\", x)\n",
    "    println(\"\")\n",
    "end\n",
    "\n",
    "using Plots, Random, Distributions, LinearAlgebra, JuliaProbo\n",
    "gr();"
   ]
  },
  {
   "cell_type": "code",
   "execution_count": null,
   "id": "sticky-sixth",
   "metadata": {},
   "outputs": [],
   "source": [
    "function main()\n",
    "    xlim = [-5.0, 5.0]\n",
    "    ylim = [-5.0, 5.0]\n",
    "    world = World(xlim, ylim)\n",
    "    circling_agent = Agent(0.2, 10.0 / 180 * pi)\n",
    "    landmarks = [Landmark([-4.0, 2.0], 0), Landmark([2.0, -3.0], 1), Landmark([3.0, 3.0], 1)]\n",
    "    m = Map()\n",
    "    push!(m, landmarks)\n",
    "    robot = RealRobot([0.0, 0.0, pi/6], circling_agent, RealCamera(landmarks); color=\"red\")\n",
    "    push!(world, robot)\n",
    "    push!(world, m)\n",
    "    dt = 0.1\n",
    "    anim = @animate for i in 1:300\n",
    "        t = dt * i\n",
    "        annota = \"t = $(round(t, sigdigits=3))[s]\"\n",
    "        p = draw(world, annota)\n",
    "        plot(p)\n",
    "        obsv = observations(robot.sensor_, robot.pose_)\n",
    "        v, ω = decision(circling_agent, obsv)\n",
    "        state_transition(robot, v, ω, dt)\n",
    "    end\n",
    "    gif(anim, \"ch4_sim7.gif\", fps=10)\n",
    "end\n",
    "main()"
   ]
  }
 ],
 "metadata": {
  "kernelspec": {
   "display_name": "Julia 1.5.3",
   "language": "julia",
   "name": "julia-1.5"
  },
  "language_info": {
   "file_extension": ".jl",
   "mimetype": "application/julia",
   "name": "julia",
   "version": "1.5.3"
  }
 },
 "nbformat": 4,
 "nbformat_minor": 5
}
