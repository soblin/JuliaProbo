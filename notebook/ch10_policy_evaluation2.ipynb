{
 "cells": [
  {
   "cell_type": "code",
   "execution_count": null,
   "id": "about-operation",
   "metadata": {},
   "outputs": [],
   "source": [
    "using Pkg\n",
    "if isfile(\"../Project.toml\") && isfile(\"../Manifest.toml\")\n",
    "    Pkg.activate(\"..\");\n",
    "    ENV[\"PYTHON\"] = \"python3\";\n",
    "end\n",
    "\n",
    "using Plots, JuliaProbo, Seaborn, StaticArrays\n",
    "gr();"
   ]
  },
  {
   "cell_type": "code",
   "execution_count": null,
   "id": "injured-roberts",
   "metadata": {},
   "outputs": [],
   "source": [
    "mutable struct PolicyEvaluator\n",
    "    pose_min::Vector{Float64}\n",
    "    pose_max::Vector{Float64}\n",
    "    reso::Vector{Float64}\n",
    "    goal::Goal\n",
    "    index_nums::Vector{Int64}\n",
    "    indices::Vector{Tuple{Int64, Int64, Int64}}\n",
    "    value_function_::AbstractArray{Float64, 3}\n",
    "    final_state_flags_::AbstractArray{Float64, 3}\n",
    "end\n",
    "\n",
    "function set_final_state(\n",
    "        reso::Vector{Float64},\n",
    "        goal::Goal,\n",
    "        pose_min::Vector{Float64},\n",
    "        pose_max::Vector{Float64},\n",
    "        index::Tuple{Int64, Int64, Int64}\n",
    "    )\n",
    "    x_min, y_min, ~ = pose_min .+ reso .* ([index...] .- 1)\n",
    "    x_max, y_max, ~ = pose_max .+ reso .* ([index...] .- 1)\n",
    "    \n",
    "    corners = [[x_min, y_min], [x_max, y_min], [x_max, y_max], [x_min, y_max]]\n",
    "    return convert(Float64, all( [inside(goal, corner) for corner in corners] ))\n",
    "end\n",
    "\n",
    "# constructor\n",
    "function PolicyEvaluator(reso::Vector{Float64}, goal::Goal, lowerleft=[-4.0, -4.0], upperright=[4.0, 4.0])\n",
    "    pose_min = vcat(lowerleft, [0.0])\n",
    "    pose_max = vcat(upperright, [2pi])\n",
    "    index_nums = [convert(Int64, round( (pose_max[i] - pose_min[i])/reso[i] )) for i in 1:3]\n",
    "    indices = [ collect(Iterators.product(1:index_nums[1], 1:index_nums[2], 1:index_nums[3]))... ]\n",
    "    v = @MArray zeros(index_nums[1], index_nums[2], index_nums[3])\n",
    "    f = @MArray zeros(index_nums[1], index_nums[2], index_nums[3])\n",
    "    for index in indices\n",
    "        f[index...] = set_final_state(reso, goal, pose_min, pose_max, index)\n",
    "        v[index...] = (f[index...] == 0.0f) ? goal.value : (-100.0)\n",
    "    end\n",
    "    \n",
    "    return PolicyEvaluator(pose_min, pose_max, reso, goal, index_nums, indices, v, f)\n",
    "end"
   ]
  },
  {
   "cell_type": "code",
   "execution_count": null,
   "id": "skilled-conclusion",
   "metadata": {},
   "outputs": [],
   "source": [
    "pe = PolicyEvaluator([1.0, 1.0, pi/4], Goal(-3.0, -3.0))"
   ]
  }
 ],
 "metadata": {
  "kernelspec": {
   "display_name": "Julia 1.5.3",
   "language": "julia",
   "name": "julia-1.5"
  },
  "language_info": {
   "file_extension": ".jl",
   "mimetype": "application/julia",
   "name": "julia",
   "version": "1.5.3"
  }
 },
 "nbformat": 4,
 "nbformat_minor": 5
}
