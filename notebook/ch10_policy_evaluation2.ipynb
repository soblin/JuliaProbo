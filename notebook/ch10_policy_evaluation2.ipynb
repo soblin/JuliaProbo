{
 "cells": [
  {
   "cell_type": "code",
   "execution_count": null,
   "id": "about-operation",
   "metadata": {},
   "outputs": [],
   "source": [
    "using Pkg\n",
    "if isfile(\"../Project.toml\") && isfile(\"../Manifest.toml\")\n",
    "    Pkg.activate(\"..\");\n",
    "    ENV[\"PYTHON\"] = \"python3\";\n",
    "end\n",
    "\n",
    "#Pkg.build(\"PyCall\")\n",
    "using JuliaProbo, Distributed\n",
    "using Seaborn: heatmap, savefig\n",
    "gr()"
   ]
  },
  {
   "cell_type": "code",
   "execution_count": null,
   "id": "injured-roberts",
   "metadata": {},
   "outputs": [],
   "source": [
    "mutable struct PolicyEvaluator\n",
    "    pose_min::Vector{Float64}\n",
    "    pose_max::Vector{Float64}\n",
    "    reso::Vector{Float64}\n",
    "    goal::Goal\n",
    "    index_nums::Vector{Int64}\n",
    "    value_function_::AbstractArray{Float64, 3}\n",
    "    final_state_flags_::AbstractArray{Float64, 3}\n",
    "end\n",
    "\n",
    "function set_final_state(\n",
    "        reso::Vector{Float64},\n",
    "        goal::Goal,\n",
    "        pose_min::Vector{Float64},\n",
    "        index::Tuple{Int64, Int64, Int64}\n",
    "    )\n",
    "    x_min, y_min, θ_min = pose_min .+ reso .* ([index...] .- 1)\n",
    "    x_max, y_max, θ_max = pose_min .+ reso .* ([index...])\n",
    "    \n",
    "    corners = [[x_min, y_min], [x_max, y_min], [x_max, y_max], [x_min, y_max]]\n",
    "    return convert(Float64, all( [inside(goal, corner) for corner in corners] ))\n",
    "end\n",
    "\n",
    "# constructor\n",
    "function PolicyEvaluator(reso::Vector{Float64}, goal::Goal, lowerleft=[-4.0, -4.0], upperright=[4.0, 4.0])\n",
    "    pose_min = vcat(lowerleft, [0.0])\n",
    "    pose_max = vcat(upperright, [2pi])\n",
    "    \n",
    "    index_nums = [convert(Int64, round( (pose_max[i] - pose_min[i])/reso[i] )) for i in 1:3]\n",
    "    v = zeros(Float64, index_nums[1], index_nums[2], index_nums[3])\n",
    "    f = zeros(Float64, index_nums[1], index_nums[2], index_nums[3])\n",
    "    \n",
    "    @distributed for id1 in 1:index_nums[1]\n",
    "        @distributed for id2 in 1:index_nums[2]\n",
    "            @distributed for id3 in 1:index_nums[3]\n",
    "                index = (id1, id2, id3,)\n",
    "                val = set_final_state(reso, goal, pose_min, index)\n",
    "                @inbounds f[index...] = val\n",
    "                @inbounds v[index...] = (val == 1.0) ? goal.value : (-100.0)\n",
    "            end\n",
    "        end\n",
    "    end\n",
    "    \n",
    "    return PolicyEvaluator(pose_min, pose_max, reso, goal, index_nums, v, f)\n",
    "end"
   ]
  },
  {
   "cell_type": "code",
   "execution_count": null,
   "id": "skilled-conclusion",
   "metadata": {},
   "outputs": [],
   "source": [
    "pe = PolicyEvaluator([0.2, 0.2, pi/18], Goal(-3.0, -3.0));"
   ]
  },
  {
   "cell_type": "code",
   "execution_count": null,
   "id": "israeli-ozone",
   "metadata": {},
   "outputs": [],
   "source": [
    "println(typeof(pe.value_function_))\n",
    "println(size(pe.value_function_))\n",
    "v = pe.value_function_\n",
    "p = heatmap(rotl90(v[:, :, 1]))\n",
    "savefig(\"images/ch10_policy_evaluation2.png\")"
   ]
  },
  {
   "cell_type": "markdown",
   "id": "sudden-examination",
   "metadata": {},
   "source": [
    "<img src=\"images/ch10_policy_evaluation2.png\">"
   ]
  }
 ],
 "metadata": {
  "kernelspec": {
   "display_name": "Julia 1.6.0",
   "language": "julia",
   "name": "julia-1.6"
  },
  "language_info": {
   "file_extension": ".jl",
   "mimetype": "application/julia",
   "name": "julia",
   "version": "1.5.3"
  }
 },
 "nbformat": 4,
 "nbformat_minor": 5
}
