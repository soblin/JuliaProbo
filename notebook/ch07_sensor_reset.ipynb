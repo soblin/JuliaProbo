{
 "cells": [
  {
   "cell_type": "code",
   "execution_count": null,
   "id": "about-operation",
   "metadata": {},
   "outputs": [],
   "source": [
    "using Pkg\n",
    "if isfile(\"../Project.toml\") && isfile(\"../Manifest.toml\")\n",
    "    Pkg.activate(\"..\");\n",
    "    ENV[\"PYTHON\"] = \"python3\";\n",
    "end\n",
    "\n",
    "function printer(x::Any, verbose=\"\")\n",
    "    if verbose != \"\"\n",
    "        println(verbose)\n",
    "    end\n",
    "    show(stdout, \"text/plain\", x)\n",
    "    println(\"\")\n",
    "end\n",
    "\n",
    "using Plots, Random, Distributions, LinearAlgebra, JuliaProbo\n",
    "gr();"
   ]
  },
  {
   "cell_type": "code",
   "execution_count": null,
   "id": "charitable-drink",
   "metadata": {},
   "outputs": [],
   "source": [
    "function ch07_sensor_reset()\n",
    "    dt = 0.1\n",
    "    # environment\n",
    "    xlim = [-5.0, 5.0]\n",
    "    ylim = [-5.0, 5.0]\n",
    "    # id of landmark must start from 0 with 1 step\n",
    "    landmarks = [\n",
    "        Landmark([2.0, -3.0], 0),\n",
    "        Landmark([3.0, 3.0], 1),\n",
    "        Landmark([-4.0, 2.0], 2),\n",
    "        Landmark([0.0, 0.0], 3),\n",
    "        Landmark([-4.0, -4.0], 4),\n",
    "    ]\n",
    "    envmap = Map()\n",
    "    push!(envmap, landmarks)\n",
    "    world = World(xlim, ylim)\n",
    "    push!(world, envmap)\n",
    "    # robot side\n",
    "    initial_pose = uniform(PoseUniform(xlim, ylim))\n",
    "    estimator = ResetMcl(initial_pose, 100; xlim = xlim, ylim = ylim, α_threshold = 0.005)\n",
    "    circling_agent = EstimatorAgent(0.2, 10.0 * pi / 180, dt, estimator)\n",
    "    robot = RealRobot(\n",
    "        initial_pose,\n",
    "        circling_agent,\n",
    "        RealCamera(landmarks);\n",
    "        color = \"red\",\n",
    "        expected_kidnap_time = 10,\n",
    "    )\n",
    "    push!(world, robot)\n",
    "    anim = @animate for i = 1:100\n",
    "        t = dt * i\n",
    "        annota = \"t = $(round(t, sigdigits=3))[s]\"\n",
    "        p = draw(world, annota)\n",
    "        z = observations(robot.sensor_, robot.pose_; noise = true, bias = true)\n",
    "        v, ω = decision(circling_agent, z, envmap; sensor_reset = true)\n",
    "        state_transition(\n",
    "            robot,\n",
    "            v,\n",
    "            ω,\n",
    "            dt;\n",
    "            move_noise = true,\n",
    "            vel_bias_noise = true,\n",
    "            kidnap = true,\n",
    "        )\n",
    "    end\n",
    "    gif(anim, \"images/ch07_sensor_reset2.gif\", fps=10)\n",
    "end"
   ]
  },
  {
   "cell_type": "code",
   "execution_count": null,
   "id": "timely-boxing",
   "metadata": {
    "scrolled": false
   },
   "outputs": [],
   "source": [
    "ch07_sensor_reset()"
   ]
  }
 ],
 "metadata": {
  "kernelspec": {
   "display_name": "Julia 1.6.0",
   "language": "julia",
   "name": "julia-1.6.3"
  },
  "language_info": {
   "file_extension": ".jl",
   "mimetype": "application/julia",
   "name": "julia",
   "version": "1.5.3"
  }
 },
 "nbformat": 4,
 "nbformat_minor": 5
}
