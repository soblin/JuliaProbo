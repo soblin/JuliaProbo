{
 "cells": [
  {
   "cell_type": "code",
   "execution_count": null,
   "id": "about-operation",
   "metadata": {},
   "outputs": [],
   "source": [
    "using Pkg\n",
    "if isfile(\"../Project.toml\") && isfile(\"../Manifest.toml\")\n",
    "    Pkg.activate(\"..\");\n",
    "    ENV[\"PYTHON\"] = \"python3\";\n",
    "end\n",
    " \n",
    "Pkg.build(\"PyCall\")\n",
    "using JuliaProbo\n",
    "using Seaborn: heatmap, savefig\n",
    "gr()"
   ]
  },
  {
   "cell_type": "code",
   "execution_count": null,
   "id": "weighted-yugoslavia",
   "metadata": {},
   "outputs": [],
   "source": [
    "function init_reward(pe::PolicyEvaluator, world::PuddleWorld, sampling_num::Int64)\n",
    "    reso = pe.reso\n",
    "    dxs = collect(range(0, reso[1], length=sampling_num))\n",
    "    dys = collect(range(0, reso[2], length=sampling_num))\n",
    "    index_nums = pe.index_nums\n",
    "    pose_min = pe.pose_min\n",
    "    puddles = world.puddles_\n",
    "    reward = zeros(Float64, index_nums[1], index_nums[2])\n",
    "    \n",
    "    for x in 0:index_nums[1]-1\n",
    "        for y in 0:index_nums[2]-1\n",
    "            for dx in dxs\n",
    "                for  dy in dys\n",
    "                    pose = pose_min .+ (reso .* [x, y, 0]) .+ [dx, dy, 0]\n",
    "                    for puddle in puddles\n",
    "                        reward[x+1, y+1] += ( puddle.depth * ( convert(Float64, inside(puddle, pose)) ) )\n",
    "                    end\n",
    "                end\n",
    "            end\n",
    "            reward[x+1, y+1] /= (sampling_num)^2\n",
    "        end\n",
    "    end\n",
    "    return reward\n",
    "end"
   ]
  },
  {
   "cell_type": "code",
   "execution_count": null,
   "id": "powerful-bride",
   "metadata": {},
   "outputs": [],
   "source": [
    "xlim = [-5.0, 5.0]\n",
    "ylim = [-5.0, 5.0]\n",
    "world = PuddleWorld(xlim, ylim)\n",
    "push!(world, Puddle([-2.0, 0.0], [0.0, 2.0], 0.1))\n",
    "push!(world, Puddle([-0.5, -2.0], [2.5, 1.0], 0.1))"
   ]
  },
  {
   "cell_type": "code",
   "execution_count": null,
   "id": "skilled-conclusion",
   "metadata": {},
   "outputs": [],
   "source": [
    "sampling_num = 10\n",
    "pe = PolicyEvaluator([0.1, 0.1, pi/20], Goal(-3.0, -3.0));\n",
    "init_value(pe)\n",
    "init_policy(pe)\n",
    "init_state_transition_probs(pe, 0.1, sampling_num)\n",
    "heatmap(rotl90(init_reward(pe, world, sampling_num)))\n",
    "# savefig(\"ch10_policy_evaluation5.png\")"
   ]
  },
  {
   "cell_type": "markdown",
   "id": "duplicate-isaac",
   "metadata": {},
   "source": [
    "<img src=\"ch10_policy_evaluation5.png\">"
   ]
  }
 ],
 "metadata": {
  "kernelspec": {
   "display_name": "Julia 1.5.3",
   "language": "julia",
   "name": "julia-1.5"
  },
  "language_info": {
   "file_extension": ".jl",
   "mimetype": "application/julia",
   "name": "julia",
   "version": "1.5.3"
  }
 },
 "nbformat": 4,
 "nbformat_minor": 5
}
