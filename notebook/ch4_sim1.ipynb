{
 "cells": [
  {
   "cell_type": "code",
   "execution_count": 1,
   "id": "compliant-hearing",
   "metadata": {},
   "outputs": [
    {
     "name": "stderr",
     "output_type": "stream",
     "text": [
      "\u001b[32m\u001b[1m Activating\u001b[22m\u001b[39m environment at `~/Programming/julia/notebook/JuliaProbo/Project.toml`\n"
     ]
    },
    {
     "data": {
      "text/plain": [
       "printer (generic function with 2 methods)"
      ]
     },
     "execution_count": 1,
     "metadata": {},
     "output_type": "execute_result"
    }
   ],
   "source": [
    "using Pkg\n",
    "if isfile(\"../Project.toml\") && isfile(\"../Manifest.toml\")\n",
    "    Pkg.activate(\"..\");\n",
    "end\n",
    "\n",
    "function printer(x::Any, verbose=\"\")\n",
    "    if verbose != \"\"\n",
    "        println(verbose)\n",
    "    end\n",
    "    show(stdout, \"text/plain\", x)\n",
    "    println(\"\")\n",
    "end"
   ]
  },
  {
   "cell_type": "code",
   "execution_count": 2,
   "id": "intimate-journal",
   "metadata": {},
   "outputs": [],
   "source": [
    "using CSV, DataFrames, Plots, Statistics, StatsBase, Random, Distributions, LinearAlgebra\n",
    "gr();"
   ]
  },
  {
   "cell_type": "code",
   "execution_count": 3,
   "id": "cutting-heart",
   "metadata": {},
   "outputs": [
    {
     "name": "stderr",
     "output_type": "stream",
     "text": [
      "┌ Info: Precompiling JuliaProbo [3c270a3a-2612-4193-9bf7-68cd93c8ae26]\n",
      "└ @ Base loading.jl:1278\n"
     ]
    }
   ],
   "source": [
    "using JuliaProbo"
   ]
  },
  {
   "cell_type": "code",
   "execution_count": null,
   "id": "trying-employment",
   "metadata": {},
   "outputs": [],
   "source": [
    "straight_agent = Agent(0.2, 0.0)\n",
    "circling_agent = Agent(0.2, 10.0 / 180.0 * pi)\n",
    "landmarks = [Landmark([2.0, -2.0], 0), Landmark([-1.0, -3.0], 1), Landmark([3.0, 3.0], 2)]\n",
    "m = Map()\n",
    "camera1 = IdealCamera(landmarks)\n",
    "camera2 = IdealCamera(landmarks)\n",
    "push!(m, landmarks)\n",
    "robot1 = IdealRobot([2.0, 3.0, pi/6], straight_agent, camera1, 0.05, \"blue\",)\n",
    "robot2 = IdealRobot([-2.0, -1.0, pi/5*6], circling_agent, camera2, 0.05, \"orange\")\n",
    "xlim = [-5.5, 10]\n",
    "ylim = [-5.5, 10]\n",
    "world = World(xlim, ylim)\n",
    "push!(world, robot1)\n",
    "push!(world, robot2)\n",
    "push!(world, m)\n",
    "dt = 0.1\n",
    "anim = @animate for i = 1:300\n",
    "    t = dt * i\n",
    "    annota = \"t = $(round(t, sigdigits=3))[s]\"\n",
    "    obsv1 = observations(camera1, robot1.pose_)\n",
    "    obsv2 = observations(camera2, robot2.pose_)\n",
    "    p = draw(world, annota)\n",
    "    plot(p)\n",
    "    v, ω = decision(straight_agent, obsv1)\n",
    "    state_transition(robot1, v, ω, dt)\n",
    "    v, ω = decision(circling_agent, obsv2)\n",
    "    state_transition(robot2, v, ω, dt)\n",
    "end\n",
    "gif(anim, \"ch3_robot11.gif\", fps=10)"
   ]
  }
 ],
 "metadata": {
  "kernelspec": {
   "display_name": "Julia 1.5.3",
   "language": "julia",
   "name": "julia-1.5"
  },
  "language_info": {
   "file_extension": ".jl",
   "mimetype": "application/julia",
   "name": "julia",
   "version": "1.5.3"
  }
 },
 "nbformat": 4,
 "nbformat_minor": 5
}
