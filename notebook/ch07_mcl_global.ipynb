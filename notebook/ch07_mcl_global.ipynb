{
 "cells": [
  {
   "cell_type": "code",
   "execution_count": null,
   "id": "about-operation",
   "metadata": {},
   "outputs": [],
   "source": [
    "using Pkg\n",
    "if isfile(\"../Project.toml\") && isfile(\"../Manifest.toml\")\n",
    "    Pkg.activate(\"..\");\n",
    "    ENV[\"PYTHON\"] = \"python3\";\n",
    "end\n",
    "\n",
    "function printer(x::Any, verbose=\"\")\n",
    "    if verbose != \"\"\n",
    "        println(verbose)\n",
    "    end\n",
    "    show(stdout, \"text/plain\", x)\n",
    "    println(\"\")\n",
    "end\n",
    "\n",
    "using Plots, Random, Distributions, LinearAlgebra, JuliaProbo\n",
    "gr();"
   ]
  },
  {
   "cell_type": "code",
   "execution_count": null,
   "id": "timely-boxing",
   "metadata": {},
   "outputs": [],
   "source": [
    "function ch07_kdl_mcl()\n",
    "    dt = 0.1\n",
    "    # environment\n",
    "    xlim = [-5.0, 5.0]\n",
    "    ylim = [-5.0, 5.0]\n",
    "    # id of landmark must start from 0 with 1 step\n",
    "    landmarks = [Landmark([2.0, -3.0], 0), Landmark([3.0, 3.0], 1), Landmark([-4.0, 2.0], 2)]\n",
    "    envmap = Map()\n",
    "    push!(envmap, landmarks)\n",
    "    world = World(xlim, ylim)\n",
    "    push!(world, envmap)\n",
    "    # robot side\n",
    "    initial_pose = [0.0, 0.0, 0.0]\n",
    "    estimator = Mcl(initial_pose, 100; glob=true, xlim=xlim, ylim=ylim)\n",
    "    circling_agent = EstimatorAgent(0.2, 10.0*pi/180, dt, estimator)\n",
    "    robot = RealRobot(initial_pose, circling_agent, RealCamera(landmarks); color=\"red\")\n",
    "    push!(world, robot)\n",
    "    anim = @animate for i in 1:500\n",
    "        t = dt * i\n",
    "        annota = \"t = $(round(t, sigdigits=3))[s]\"\n",
    "        p = draw(world, annota)\n",
    "        z = observations(robot.sensor_, robot.pose_; noise=true, bias=true)\n",
    "        v, ω = decision(circling_agent, z, envmap; resample=true)\n",
    "        state_transition(robot, v, ω, dt; move_noise=true, vel_bias_noise=true)\n",
    "    end\n",
    "    gif(anim, \"images/ch07_mcl_global.gif\", fps=10)\n",
    "end\n",
    "ch07_kdl_mcl()"
   ]
  }
 ],
 "metadata": {
  "kernelspec": {
   "display_name": "Julia 1.6.0",
   "language": "julia",
   "name": "julia-1.6"
  },
  "language_info": {
   "file_extension": ".jl",
   "mimetype": "application/julia",
   "name": "julia",
   "version": "1.6.0"
  }
 },
 "nbformat": 4,
 "nbformat_minor": 5
}
