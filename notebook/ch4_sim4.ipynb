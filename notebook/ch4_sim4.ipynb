{
 "cells": [
  {
   "cell_type": "code",
   "execution_count": null,
   "id": "about-operation",
   "metadata": {},
   "outputs": [],
   "source": [
    "using Pkg\n",
    "if isfile(\"../Project.toml\") && isfile(\"../Manifest.toml\")\n",
    "    Pkg.activate(\"..\");\n",
    "end\n",
    "\n",
    "function printer(x::Any, verbose=\"\")\n",
    "    if verbose != \"\"\n",
    "        println(verbose)\n",
    "    end\n",
    "    show(stdout, \"text/plain\", x)\n",
    "    println(\"\")\n",
    "end\n",
    "\n",
    "using Plots, Random, Distributions, LinearAlgebra, JuliaProbo\n",
    "gr();"
   ]
  },
  {
   "cell_type": "code",
   "execution_count": null,
   "id": "responsible-links",
   "metadata": {},
   "outputs": [],
   "source": [
    "xlim = [-5.0, 5.0]\n",
    "ylim = [-5.0, 5.0]\n",
    "world = World(xlim, ylim)\n",
    "\n",
    "circling_agent = Agent(0.2, 10.0 / 180 * pi)\n",
    "robots = Array{RealRobot, 1}(undef, 0)\n",
    "for i in 1:100\n",
    "    robot = RealRobot([0.0, 0.0, 0.0], circling_agent, nothing;\n",
    "        radius=0.05, color=\"gray\", noise_per_meter=0.0,\n",
    "        bias_rate_stds=(0.0, 0.0), expected_stuck_time=60.0,\n",
    "        expected_escape_time=60.0)\n",
    "    push!(robots, robot)\n",
    "    push!(world, robot)\n",
    "end\n",
    "ideal_robot = IdealRobot([0.0, 0.0, 0.0], circling_agent, nothing,\n",
    "    0.05, \"red\")\n",
    "push!(world, ideal_robot)\n",
    "\n",
    "dt = 0.1\n",
    "anim = @animate for i in 1:300\n",
    "    annota = \"t = $(round(dt * i, sigdigits=3))[s]\"\n",
    "    p = draw(world, annota)\n",
    "    for i in 1:100\n",
    "        obsv = observations(robots[i].sensor_, robots[i].pose_)\n",
    "        v, ω = decision(circling_agent, obsv)\n",
    "        state_transition(robots[i], v, ω, dt)\n",
    "    end\n",
    "    obsv = observations(ideal_robot.sensor_, ideal_robot.pose_)\n",
    "    v, ω = decision(circling_agent, obsv)\n",
    "    state_transition(ideal_robot, v, ω, dt)\n",
    "end\n",
    "gif(anim, \"ch4_sim4.gif\", fps=10)"
   ]
  }
 ],
 "metadata": {
  "kernelspec": {
   "display_name": "Julia 1.5.3",
   "language": "julia",
   "name": "julia-1.5"
  },
  "language_info": {
   "file_extension": ".jl",
   "mimetype": "application/julia",
   "name": "julia",
   "version": "1.5.3"
  }
 },
 "nbformat": 4,
 "nbformat_minor": 5
}
