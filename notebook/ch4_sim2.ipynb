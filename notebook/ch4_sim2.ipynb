{
 "cells": [
  {
   "cell_type": "code",
   "execution_count": null,
   "id": "devoted-yugoslavia",
   "metadata": {},
   "outputs": [],
   "source": [
    "using Pkg\n",
    "if isfile(\"../Project.toml\") && isfile(\"../Manifest.toml\")\n",
    "    Pkg.activate(\"..\");\n",
    "end\n",
    "\n",
    "function printer(x::Any, verbose=\"\")\n",
    "    if verbose != \"\"\n",
    "        println(verbose)\n",
    "    end\n",
    "    show(stdout, \"text/plain\", x)\n",
    "    println(\"\")\n",
    "end"
   ]
  },
  {
   "cell_type": "code",
   "execution_count": null,
   "id": "inappropriate-christopher",
   "metadata": {},
   "outputs": [],
   "source": [
    "using Plots, Random, Distributions, LinearAlgebra, JuliaProbo\n",
    "gr();"
   ]
  },
  {
   "cell_type": "code",
   "execution_count": null,
   "id": "established-denial",
   "metadata": {},
   "outputs": [],
   "source": [
    "function main()\n",
    "    xlim = [-5.0, 5.0]\n",
    "    ylim = [-5.0, 5.0]\n",
    "    world = World(xlim, ylim)\n",
    "    circlings = Array{Agent, 1}(undef, 0)\n",
    "    robots = Array{RealRobot, 1}(undef, 0)\n",
    "    for i in 1:100\n",
    "        circling = Agent(0.2, 10.0 / 180 * pi)\n",
    "        robot = RealRobot([0.0, 0.0, 0.0], circling, nothing; radius=0.05, color=\"black\")\n",
    "        push!(circlings, circling)\n",
    "        push!(robots, robot)\n",
    "        push!(world, robot)\n",
    "    end\n",
    "\n",
    "    dt = 0.1\n",
    "    anim = @animate for i in 1:100\n",
    "        t = dt * i\n",
    "        annota = \"t = $(round(t, sigdigits=3))[s]\"\n",
    "        p = draw(world, annota);\n",
    "        plot(p);\n",
    "        for j in 1:100\n",
    "            v, ω = decision(circlings[j], nothing)\n",
    "            state_transition(robots[j], v, ω, dt; move_noise=true)\n",
    "        end\n",
    "    end\n",
    "    gif(anim, \"ch4_sim2.gif\", fps=10);\n",
    "end\n",
    "\n",
    "main()"
   ]
  }
 ],
 "metadata": {
  "kernelspec": {
   "display_name": "Julia 1.5.3",
   "language": "julia",
   "name": "julia-1.5"
  },
  "language_info": {
   "file_extension": ".jl",
   "mimetype": "application/julia",
   "name": "julia",
   "version": "1.5.3"
  }
 },
 "nbformat": 4,
 "nbformat_minor": 5
}
