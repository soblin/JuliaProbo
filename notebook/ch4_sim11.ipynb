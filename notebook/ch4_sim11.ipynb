{
 "cells": [
  {
   "cell_type": "code",
   "execution_count": null,
   "id": "about-operation",
   "metadata": {},
   "outputs": [],
   "source": [
    "using Pkg\n",
    "if isfile(\"../Project.toml\") && isfile(\"../Manifest.toml\")\n",
    "    Pkg.activate(\"..\");\n",
    "    ENV[\"PYTHON\"] = \"python3\";\n",
    "end\n",
    "\n",
    "function printer(x::Any, verbose=\"\")\n",
    "    if verbose != \"\"\n",
    "        println(verbose)\n",
    "    end\n",
    "    show(stdout, \"text/plain\", x)\n",
    "    println(\"\")\n",
    "end\n",
    "\n",
    "using Plots, Random, Distributions, LinearAlgebra, JuliaProbo\n",
    "gr();"
   ]
  },
  {
   "cell_type": "code",
   "execution_count": null,
   "id": "institutional-replacement",
   "metadata": {},
   "outputs": [],
   "source": [
    "xlim = [-5.0, 5.0]\n",
    "ylim = [-5.0, 5.0]\n",
    "world = World(xlim, ylim)\n",
    "landmarks = [Landmark([-4.0, 2.0], 0), Landmark([2.0, -3.0], 1), Landmark([3.0, 3.0], 2)]\n",
    "m = Map()\n",
    "push!(m, landmarks)\n",
    "circling = Agent(0.2, 10.0 / 180 * pi)\n",
    "robot = RealRobot([2.0, 2.0, pi/6], circling, RealCamera(landmarks; occlusion_prob=0.1); color=\"red\")\n",
    "push!(world, robot)\n",
    "push!(world, m)\n",
    "dt = 0.1\n",
    "anim = @animate for i in 1:300\n",
    "    t = dt * i\n",
    "    annota = \"t = $(round(t, sigdigits=3))[s]\"\n",
    "    p = draw(world, annota)\n",
    "    z = observations(robot.sensor_, robot.pose_; noise=true, bias=true, occlusion=true)\n",
    "    v, ω = decision(circling, z)\n",
    "    state_transition(robot, v, ω, dt; move_noise=true, vel_bias_noise=true)\n",
    "end\n",
    "gif(anim, \"images/ch4_sim11.gif\", fps=10)"
   ]
  }
 ],
 "metadata": {
  "kernelspec": {
   "display_name": "Julia 1.5.3",
   "language": "julia",
   "name": "julia-1.5.3"
  },
  "language_info": {
   "file_extension": ".jl",
   "mimetype": "application/julia",
   "name": "julia",
   "version": "1.5.3"
  }
 },
 "nbformat": 4,
 "nbformat_minor": 5
}
