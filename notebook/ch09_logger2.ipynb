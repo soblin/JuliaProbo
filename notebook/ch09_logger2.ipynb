{
 "cells": [
  {
   "cell_type": "code",
   "execution_count": null,
   "id": "about-operation",
   "metadata": {
    "scrolled": true
   },
   "outputs": [],
   "source": [
    "using Pkg\n",
    "if isfile(\"../Project.toml\") && isfile(\"../Manifest.toml\")\n",
    "    Pkg.activate(\"..\");\n",
    "    ENV[\"PYTHON\"] = \"python3\";\n",
    "end\n",
    "\n",
    "using Plots, Random, Distributions, LinearAlgebra, JuliaProbo\n",
    "gr();"
   ]
  },
  {
   "cell_type": "code",
   "execution_count": null,
   "id": "alternate-institution",
   "metadata": {
    "scrolled": false
   },
   "outputs": [],
   "source": [
    "function ch09_logger2()\n",
    "    dt = 3.0\n",
    "    # environment\n",
    "    xlim = [-5.0, 5.0]\n",
    "    ylim = [-5.0, 5.0]\n",
    "    # id of landmark must start from 0 with 1 step\n",
    "    landmarks = [Landmark([-4.0, 2.0], 0), Landmark([2.0, -3.0], 1), Landmark([3.0, 3.0], 2), Landmark([0.0, 4.0], 3), Landmark([1.0, 1.0], 4), Landmark([-3.0, -1.0], 5)]\n",
    "    envmap = Map()\n",
    "    push!(envmap, landmarks)\n",
    "    world = World(xlim, ylim)\n",
    "    push!(world, envmap)\n",
    "    # robot side\n",
    "    initial_pose = [0.0, -3.0, 0.0]\n",
    "    logger_agent = LoggerAgent(0.2, 5.0*pi/180, dt, initial_pose)\n",
    "    robot = RealRobot(initial_pose, logger_agent, PsiCamera(landmarks); color=\"red\")\n",
    "    push!(world, robot)\n",
    "    anim = @animate for i in 1:60\n",
    "        t = dt * i\n",
    "        annota = \"t = $(round(t, sigdigits=3))[s]\"\n",
    "        z = observations(robot.sensor_, robot.pose_)\n",
    "        v, ω = decision(logger_agent, z)\n",
    "        p = draw(world, annota)\n",
    "        state_transition(robot, v, ω, dt; move_noise=true, vel_bias_noise=true)\n",
    "    end\n",
    "    gif(anim, \"images/ch09_logger2.gif\", fps=0.5)\n",
    "end\n",
    "ch09_logger2()"
   ]
  },
  {
   "cell_type": "markdown",
   "id": "pleased-scholarship",
   "metadata": {},
   "source": [
    "<img src=\"images/ch09_logger2.gif\">"
   ]
  }
 ],
 "metadata": {
  "kernelspec": {
   "display_name": "Julia 1.6.0",
   "language": "julia",
   "name": "julia-1.6"
  },
  "language_info": {
   "file_extension": ".jl",
   "mimetype": "application/julia",
   "name": "julia",
   "version": "1.5.3"
  }
 },
 "nbformat": 4,
 "nbformat_minor": 5
}
