{
 "cells": [
  {
   "cell_type": "code",
   "execution_count": null,
   "id": "about-operation",
   "metadata": {},
   "outputs": [],
   "source": [
    "using Pkg\n",
    "if isfile(\"../Project.toml\") && isfile(\"../Manifest.toml\")\n",
    "    Pkg.activate(\"..\");\n",
    "    ENV[\"PYTHON\"] = \"python3\";\n",
    "end\n",
    " \n",
    "#Pkg.build(\"PyCall\")\n",
    "using JuliaProbo\n",
    "using Seaborn: heatmap, savefig\n",
    "gr()"
   ]
  },
  {
   "cell_type": "code",
   "execution_count": null,
   "id": "legitimate-hundred",
   "metadata": {},
   "outputs": [],
   "source": [
    "function init_state_transition_probs(pe::PolicyEvaluator, time_interval::Float64, sampling_num::Int64)\n",
    "    reso = pe.reso\n",
    "    indices = pe.indices\n",
    "    policy = pe.policy_\n",
    "    actions = Set{Vector{Float64}}()\n",
    "    index_nums = pe.index_nums\n",
    "    pose_min = pe.pose_min\n",
    "    for index in indices\n",
    "        push!(actions, policy[index..., :])\n",
    "    end\n",
    "    \n",
    "    dxs = collect(range(0.001, reso[1]*0.999, length=sampling_num))\n",
    "    dys = collect(range(0.001, reso[2]*0.999, length=sampling_num))\n",
    "    dθs = collect(range(0.001, reso[3]*0.999, length=sampling_num))\n",
    "    # key is (v::Float64, ω::Float64, θ_index::Int64,)\n",
    "    # value is vector of ([tran_x_id, tran_y_id, tran_z_id], prob,)\n",
    "    tmp = Dict{ Tuple{Float64, Float64, Int64}, Vector{Tuple{Vector{Int64}, Float64}} }()\n",
    "    for a in actions\n",
    "        for i_θ in 1:index_nums[3]\n",
    "            transitions = Vector{Vector{Int64}}(undef, 0)\n",
    "            for dx in dxs\n",
    "                for dy in dys\n",
    "                    for dθ in dθs\n",
    "                        before = [dx, dy, dθ+(i_θ-1)*reso[3]] .+ pose_min\n",
    "                        before_index = [1, 1, i_θ]\n",
    "                        after = state_transition(before, a[1], a[2], time_interval)\n",
    "                        after_index_ = (after - pose_min) ./ reso\n",
    "                        after_index = map(x -> convert(Int64, floor(x) + 1), after_index_)\n",
    "                        push!(transitions, after_index-before_index)\n",
    "                    end\n",
    "                end\n",
    "            end\n",
    "            elems = unique(transitions)\n",
    "            counts = [count(x -> x==elem, transitions) for elem in elems]\n",
    "            probs = [c / (sampling_num)^3 for c in counts]\n",
    "            tmp[(a[1], a[2], i_θ,)] = [iter for iter in zip(elems, probs)]\n",
    "        end\n",
    "    end\n",
    "    return tmp\n",
    "end"
   ]
  },
  {
   "cell_type": "code",
   "execution_count": null,
   "id": "skilled-conclusion",
   "metadata": {},
   "outputs": [],
   "source": [
    "pe = PolicyEvaluator([0.1, 0.1, pi/20], Goal(-3.0, -3.0));\n",
    "init_value(pe)\n",
    "init_policy(pe)"
   ]
  },
  {
   "cell_type": "code",
   "execution_count": null,
   "id": "rough-spread",
   "metadata": {},
   "outputs": [],
   "source": [
    "x = init_state_transition_probs(pe, 0.1, 10)\n",
    "for (k, v) in x\n",
    "    println(\"$(k) => $(v)\")\n",
    "    println(\"\")\n",
    "end"
   ]
  }
 ],
 "metadata": {
  "kernelspec": {
   "display_name": "Julia 1.6.0",
   "language": "julia",
   "name": "julia-1.6"
  },
  "language_info": {
   "file_extension": ".jl",
   "mimetype": "application/julia",
   "name": "julia",
   "version": "1.6.0"
  }
 },
 "nbformat": 4,
 "nbformat_minor": 5
}
