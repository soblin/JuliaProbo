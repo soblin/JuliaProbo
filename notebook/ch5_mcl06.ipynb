{
 "cells": [
  {
   "cell_type": "code",
   "execution_count": null,
   "id": "about-operation",
   "metadata": {},
   "outputs": [],
   "source": [
    "using Pkg\n",
    "if isfile(\"../Project.toml\") && isfile(\"../Manifest.toml\")\n",
    "    Pkg.activate(\"..\");\n",
    "    ENV[\"PYTHON\"] = \"python3\";\n",
    "end\n",
    "\n",
    "function printer(x::Any, verbose=\"\")\n",
    "    if verbose != \"\"\n",
    "        println(verbose)\n",
    "    end\n",
    "    show(stdout, \"text/plain\", x)\n",
    "    println(\"\")\n",
    "end\n",
    "\n",
    "using Plots, Random, Distributions, LinearAlgebra, JuliaProbo\n",
    "gr();"
   ]
  },
  {
   "cell_type": "code",
   "execution_count": null,
   "id": "honest-surgery",
   "metadata": {},
   "outputs": [],
   "source": [
    "motion_noise_stds = Dict(\"vv\" => 0.001, \"vω\" => 0.001, \"ωv\" => 0.13, \"ωω\" => 0.001)\n",
    "function ch05_mcl06(motion_noise_stds)\n",
    "    dt = 0.1\n",
    "    # environment\n",
    "    xlim = [-5.0, 5.0]\n",
    "    ylim = [-5.0, 5.0]\n",
    "    world = World(xlim, ylim)\n",
    "    # robot side\n",
    "    initial_pose = [-2.0, 0.0, 0.0]\n",
    "    estimator = Mcl(initial_pose, 100, motion_noise_stds)\n",
    "    circling = EstimatorAgent(0.1, 0.0, dt, estimator)\n",
    "    robot = RealRobot(initial_pose, circling, nothing; color=\"red\")\n",
    "    push!(world, robot)\n",
    "    anim = @animate for i in 1:400\n",
    "        t = dt * i\n",
    "        annota = \"t = $(round(t, sigdigits=3))[s]\"\n",
    "        p = draw(world, annota)\n",
    "        z = observations(robot.sensor_, robot.pose_)\n",
    "        v, ω = decision(circling, z)\n",
    "        state_transition(robot, v, ω, dt; move_noise=true, vel_bias_noise=true)\n",
    "    end\n",
    "    gif(anim, \"images/ch05_mcl06.gif\", fps=10)\n",
    "end\n",
    "ch05_mcl06(motion_noise_stds)"
   ]
  }
 ],
 "metadata": {
  "kernelspec": {
   "display_name": "Julia 1.6.0",
   "language": "julia",
   "name": "julia-1.6"
  },
  "language_info": {
   "file_extension": ".jl",
   "mimetype": "application/julia",
   "name": "julia",
   "version": "1.6.0"
  }
 },
 "nbformat": 4,
 "nbformat_minor": 5
}
