{
 "cells": [
  {
   "cell_type": "code",
   "execution_count": null,
   "id": "about-operation",
   "metadata": {
    "scrolled": true
   },
   "outputs": [],
   "source": [
    "using Pkg\n",
    "if isfile(\"../Project.toml\") && isfile(\"../Manifest.toml\")\n",
    "    Pkg.activate(\"..\");\n",
    "    ENV[\"PYTHON\"] = \"python3\";\n",
    "end\n",
    "\n",
    "using JuliaProbo"
   ]
  },
  {
   "cell_type": "code",
   "execution_count": null,
   "id": "organizational-blind",
   "metadata": {
    "scrolled": true
   },
   "outputs": [],
   "source": [
    "dt = 0.1\n",
    "# environment\n",
    "xlim = [-5.0, 5.0]\n",
    "ylim = [-5.0, 5.0]\n",
    "# id of landmark must start from 0 with 1 step\n",
    "landmarks =\n",
    "[Landmark([1.0, 4.0], 0), Landmark([4.0, 1.0], 1), Landmark([-4.0, -4.0], 2)]\n",
    "envmap = Map()\n",
    "push!(envmap, landmarks)\n",
    "world = PuddleWorld(xlim, ylim)\n",
    "push!(world, envmap)\n",
    "# goal\n",
    "goal = Goal(-3.0, -3.0)\n",
    "push!(world, goal)\n",
    "push!(world, Puddle([-2.0, 0.0], [0.0, 2.0], 0.1))\n",
    "push!(world, Puddle([-0.5, -2.0], [2.5, 1.0], 0.1))\n",
    "# robot side\n",
    "initial_pose = [2.0, 2.0, 0.0]\n",
    "# estimator = KalmanFilter(envmap, initial_pose)\n",
    "estimator = Mcl(initial_pose, 100)\n",
    "reso = [0.1, 0.1, pi / 20]\n",
    "dp_agent = BeliefDP([0.2, 0.2, pi / 18], Goal(-3.0, -3.0); dt = 0.1)\n",
    "sampling_num = 10\n",
    "init_value(dp_agent)\n",
    "init_policy(dp_agent)\n",
    "init_depth(dp_agent, world, sampling_num = sampling_num)\n",
    "init_state_transition_probs(dp_agent, sampling_num = sampling_num)\n",
    "init_motion_sigma_transition_probs(dp_agent)"
   ]
  },
  {
   "cell_type": "code",
   "execution_count": null,
   "id": "nutritional-fountain",
   "metadata": {},
   "outputs": [],
   "source": [
    "for i in 1:1\n",
    "    delta = value_iteration_sweep(dp_agent)\n",
    "end"
   ]
  },
  {
   "cell_type": "code",
   "execution_count": null,
   "id": "promising-climate",
   "metadata": {},
   "outputs": [],
   "source": [
    "v = dp_agent.value_function_[:, :, 18, 2]\n",
    "import Seaborn\n",
    "Seaborn.heatmap(rotl90(v))"
   ]
  }
 ],
 "metadata": {
  "kernelspec": {
   "display_name": "Julia 1.6.0",
   "language": "julia",
   "name": "julia-1.6"
  },
  "language_info": {
   "file_extension": ".jl",
   "mimetype": "application/julia",
   "name": "julia",
   "version": "1.6.0"
  }
 },
 "nbformat": 4,
 "nbformat_minor": 5
}
