{
 "cells": [
  {
   "cell_type": "code",
   "execution_count": null,
   "id": "about-operation",
   "metadata": {},
   "outputs": [],
   "source": [
    "using Pkg\n",
    "if isfile(\"../Project.toml\") && isfile(\"../Manifest.toml\")\n",
    "    Pkg.activate(\"..\");\n",
    "    ENV[\"PYTHON\"] = \"python3\";\n",
    "end\n",
    " \n",
    "#Pkg.build(\"PyCall\")"
   ]
  },
  {
   "cell_type": "code",
   "execution_count": null,
   "id": "generous-reduction",
   "metadata": {},
   "outputs": [],
   "source": [
    "using JuliaProbo"
   ]
  },
  {
   "cell_type": "code",
   "execution_count": null,
   "id": "powerful-bride",
   "metadata": {},
   "outputs": [],
   "source": [
    "xlim = [-5.0, 5.0]\n",
    "ylim = [-5.0, 5.0]\n",
    "world = PuddleWorld(xlim, ylim)\n",
    "push!(world, Puddle([-2.0, 0.0], [0.0, 2.0], 0.1))\n",
    "push!(world, Puddle([-0.5, -2.0], [2.5, 1.0], 0.1))"
   ]
  },
  {
   "cell_type": "code",
   "execution_count": null,
   "id": "architectural-immunology",
   "metadata": {},
   "outputs": [],
   "source": [
    "function value_iteration_sweep(dp::DynamicProgramming)\n",
    "    max_Δ = 0.0\n",
    "    indices = dp.indices\n",
    "    final_state_flags = dp.final_state_flags_\n",
    "    value_function = copy(dp.value_function_)\n",
    "    for index in indices\n",
    "        if final_state_flags[index...] == 0.0\n",
    "            max_a = nothing\n",
    "            max_q = -1e100\n",
    "            for action in dp.actions\n",
    "                q = action_value(dp, action, [index...], value_function; out_penalty = true)\n",
    "                if q > max_q\n",
    "                    max_a = copy(action)\n",
    "                    max_q = q\n",
    "                end\n",
    "            end\n",
    "            Δ = abs(value_function[index...] - max_q)\n",
    "            max_Δ = max(Δ, max_Δ)\n",
    "            dp.value_function_[index...] = max_q\n",
    "            dp.policy_[index..., :] = max_a\n",
    "        end\n",
    "    end\n",
    "    return max_Δ\n",
    "end"
   ]
  },
  {
   "cell_type": "code",
   "execution_count": null,
   "id": "skilled-conclusion",
   "metadata": {},
   "outputs": [],
   "source": [
    "import Seaborn, Images, PyPlot\n",
    "import Plots: @animate, gif\n",
    "\n",
    "sampling_num = 10\n",
    "dp = DynamicProgramming([0.1, 0.1, pi/20], Goal(-3.0, -3.0), dt=0.1);\n",
    "init_value(dp)\n",
    "init_policy(dp)\n",
    "init_state_transition_probs(dp, 0.1, sampling_num)\n",
    "init_depth(dp, world, sampling_num)"
   ]
  },
  {
   "cell_type": "code",
   "execution_count": null,
   "id": "metric-moscow",
   "metadata": {},
   "outputs": [],
   "source": [
    "Δ = 1e100\n",
    "sweep_num = 0\n",
    "while Δ > 0.01 && sweep_num < 300\n",
    "    Δ = value_iteration_sweep(dp)\n",
    "    sweep_num += 1\n",
    "    if (sweep_num-1) % 5 == 0\n",
    "        println(\"$(sweep_num)th: $(Δ)\")\n",
    "    end\n",
    "end\n",
    "println(\"$(sweep_num)th: $(Δ)\")"
   ]
  },
  {
   "cell_type": "code",
   "execution_count": null,
   "id": "lonely-sympathy",
   "metadata": {},
   "outputs": [],
   "source": [
    "p = zeros(Float64, dp.index_nums...)\n",
    "for index in dp.indices\n",
    "    p[index...] = sum(dp.policy_[index..., :])\n",
    "end\n",
    "\n",
    "Seaborn.heatmap(rotl90(p[:, :, 20]))"
   ]
  },
  {
   "cell_type": "code",
   "execution_count": null,
   "id": "needed-mauritius",
   "metadata": {},
   "outputs": [],
   "source": [
    "PyPlot.clf()\n",
    "Seaborn.heatmap(rotl90(dp.value_function_[:, :, 20]))"
   ]
  },
  {
   "cell_type": "code",
   "execution_count": null,
   "id": "fancy-calvin",
   "metadata": {},
   "outputs": [],
   "source": [
    "using Images\n",
    "sampling_num = 10\n",
    "dp = DynamicProgramming([0.1, 0.1, pi/20], Goal(-3.0, -3.0), dt=0.1);\n",
    "init_value(dp)\n",
    "init_policy(dp)\n",
    "init_state_transition_probs(dp, 0.1, sampling_num)\n",
    "init_depth(dp, world, sampling_num)\n",
    "file_names = Vector{String}(undef, 0)\n",
    "\n",
    "Δ = 1e100\n",
    "sweep_num = 0\n",
    "while Δ > 0.01 && sweep_num < 300\n",
    "    Seaborn.heatmap(rotl90(dp.value_function_[:, :, 20]))\n",
    "    fname = \"ch10_dynamic_programming1_tmp$(sweep_num).png\"\n",
    "    Seaborn.savefig(fname)\n",
    "    PyPlot.clf()\n",
    "    push!(file_names, fname)\n",
    "    Δ = value_iteration_sweep(dp)\n",
    "    sweep_num += 1\n",
    "    if (sweep_num-1) % 5 == 0\n",
    "        println(\"$(sweep_num)th: $(Δ)\")\n",
    "    end\n",
    "end\n",
    "anim = @animate for i in 1:sweep_num\n",
    "    Plots.plot(Images.load(file_names[i]), axis=nothing)\n",
    "    rm(file_names[i], force=true)\n",
    "end\n",
    "gif(anim, \"images/ch10_dp1_value_iteration.gif\", fps=10)"
   ]
  }
 ],
 "metadata": {
  "kernelspec": {
   "display_name": "Julia 1.6.0",
   "language": "julia",
   "name": "julia-1.6"
  },
  "language_info": {
   "file_extension": ".jl",
   "mimetype": "application/julia",
   "name": "julia",
   "version": "1.6.0"
  }
 },
 "nbformat": 4,
 "nbformat_minor": 5
}
