{
 "cells": [
  {
   "cell_type": "code",
   "execution_count": null,
   "id": "about-operation",
   "metadata": {},
   "outputs": [],
   "source": [
    "using Pkg\n",
    "if isfile(\"../Project.toml\") && isfile(\"../Manifest.toml\")\n",
    "    Pkg.activate(\"..\");\n",
    "    ENV[\"PYTHON\"] = \"python3\";\n",
    "end\n",
    "\n",
    "using Plots, Random, Distributions, LinearAlgebra\n",
    "import Plots: Plot\n",
    "import JuliaProbo: AbstractObject, AbstractWorld, Landmark, Map, KalmanFilter, EstimatorAgent, RealRobot, RealCamera, World, Goal, Puddle, PuddleWorld, puddle_depth, observations, push!, draw,decision, state_transition\n",
    "gr();"
   ]
  },
  {
   "cell_type": "code",
   "execution_count": null,
   "id": "returning-literature",
   "metadata": {},
   "outputs": [],
   "source": [
    "mutable struct PuddleIgnoreAgent <: AbstractEstimatorAgent\n",
    "    v_::Float64\n",
    "    ω_::Float64\n",
    "    dt::Float64\n",
    "    prev_v_::Float64\n",
    "    prev_ω_::Float64\n",
    "    estimator_::AbstractEstimator\n",
    "    puddle_coeff::Float64\n",
    "    puddle_depth_::Float64\n",
    "    puddle_reward_::Float64\n",
    "    function PuddleIgnoreAgent(\n",
    "        v::Float64,\n",
    "        ω::Float64,\n",
    "        dt::Float64,\n",
    "        estimator::AbstractEstimator;\n",
    "        puddle_coeff=100\n",
    "    )\n",
    "        new(v, ω, dt, 0.0, 0.0, estimator, puddle_coeff, 0.0, 0.0)\n",
    "    end\n",
    "end\n",
    "\n",
    "function reward_per_sec(agent::PuddleIgnoreAgent)\n",
    "    return -1.0 - agent.puddle_depth_ * puddle.puddle_coeff\n",
    "end\n",
    "\n",
    "function decision(agent::PuddleIgnoreAgent,)\n",
    "function ch10_puddle_world3()\n",
    "    dt = 0.1\n",
    "    # environment\n",
    "    xlim = [-5.0, 5.0]\n",
    "    ylim = [-5.0, 5.0]\n",
    "    # id of landmark must start from 0 with 1 step\n",
    "    landmarks =\n",
    "        [Landmark([-4.0, 2.0], 0), Landmark([2.0, -3.0], 1), Landmark([3.0, 3.0], 2)]\n",
    "    envmap = Map()\n",
    "    push!(envmap, landmarks)\n",
    "    world = PuddleWorld(xlim, ylim)\n",
    "    push!(world, envmap)\n",
    "    # robot side\n",
    "    initial_pose = [0.0, 0.0, 0.0]\n",
    "    estimator = KalmanFilter(envmap, initial_pose)\n",
    "    agent = EstimatorAgent(0.2, 10.0 * pi / 180, dt, estimator)\n",
    "    robot = RealRobot(initial_pose, agent, RealCamera(landmarks, distance_bias_rate_stddev = 0.0, direction_bias_stddev = 0.0); color = \"red\")\n",
    "    push!(world, robot)\n",
    "    # goal\n",
    "    goal = Goal(-3.0, -3.0)\n",
    "    push!(world, goal)\n",
    "    # puddles\n",
    "    push!(world, Puddle([-2.0, 0.0], [0.0, 2.0], 0.1))\n",
    "    push!(world, Puddle([-0.5, -2.0], [2.5, 1.0], 0.1))\n",
    "    \n",
    "    anim = @animate for i = 1:300\n",
    "        t = dt * i\n",
    "        annota = \"t = $(round(t, sigdigits=3))[s]\"\n",
    "        p = draw(world, annota)\n",
    "        z = observations(robot.sensor_, robot.pose_; noise = false, bias = false)\n",
    "        v, ω = decision(agent, z, envmap)\n",
    "        state_transition(robot, v, ω, dt; move_noise = true, vel_bias_noise = true)\n",
    "    end\n",
    "    gif(anim, \"images/ch10_puddle_world3.gif\", fps = 20)\n",
    "end\n",
    "ch10_puddle_world3()"
   ]
  },
  {
   "cell_type": "markdown",
   "id": "flush-utility",
   "metadata": {},
   "source": [
    "<img src=\"images/ch10_puddle_world3.gif\">"
   ]
  }
 ],
 "metadata": {
  "kernelspec": {
   "display_name": "Julia 1.5.3",
   "language": "julia",
   "name": "julia-1.5"
  },
  "language_info": {
   "file_extension": ".jl",
   "mimetype": "application/julia",
   "name": "julia",
   "version": "1.5.3"
  }
 },
 "nbformat": 4,
 "nbformat_minor": 5
}
