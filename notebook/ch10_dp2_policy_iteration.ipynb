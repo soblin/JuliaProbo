{
 "cells": [
  {
   "cell_type": "code",
   "execution_count": null,
   "id": "about-operation",
   "metadata": {},
   "outputs": [],
   "source": [
    "using Pkg\n",
    "if isfile(\"../Project.toml\") && isfile(\"../Manifest.toml\")\n",
    "    Pkg.activate(\"..\");\n",
    "    ENV[\"PYTHON\"] = \"python3\";\n",
    "end\n",
    " \n",
    "#Pkg.build(\"PyCall\")"
   ]
  },
  {
   "cell_type": "code",
   "execution_count": null,
   "id": "generous-reduction",
   "metadata": {},
   "outputs": [],
   "source": [
    "using JuliaProbo"
   ]
  },
  {
   "cell_type": "code",
   "execution_count": null,
   "id": "powerful-bride",
   "metadata": {},
   "outputs": [],
   "source": [
    "xlim = [-5.0, 5.0]\n",
    "ylim = [-5.0, 5.0]\n",
    "world = PuddleWorld(xlim, ylim)\n",
    "push!(world, Puddle([-2.0, 0.0], [0.0, 2.0], 0.1))\n",
    "push!(world, Puddle([-0.5, -2.0], [2.5, 1.0], 0.1))"
   ]
  },
  {
   "cell_type": "code",
   "execution_count": null,
   "id": "skilled-conclusion",
   "metadata": {},
   "outputs": [],
   "source": [
    "import Seaborn, Images, PyPlot\n",
    "import Plots: @animate, gif\n",
    "\n",
    "sampling_num = 10\n",
    "dp = DynamicProgramming([0.1, 0.1, pi/20], Goal(-3.0, -3.0), dt=0.1);\n",
    "init_value(dp)\n",
    "init_policy(dp)\n",
    "init_state_transition_probs(dp, 0.1, sampling_num)\n",
    "init_depth(dp, world, sampling_num)"
   ]
  },
  {
   "cell_type": "code",
   "execution_count": null,
   "id": "metric-moscow",
   "metadata": {},
   "outputs": [],
   "source": [
    "action_switch_rate = 1.0\n",
    "sweep_num = 0\n",
    "while action_switch_rate > 0.001 && sweep_num < 1000\n",
    "    action_switch_rate = policy_iteration_sweep(dp)\n",
    "    sweep_num += 1\n",
    "    if (sweep_num-1) % 5 == 0\n",
    "        println(\"$(sweep_num)th: $(action_switch_rate)\")\n",
    "    end\n",
    "end\n",
    "println(\"$(sweep_num)th: $(action_switch_rate)\")"
   ]
  },
  {
   "cell_type": "code",
   "execution_count": null,
   "id": "lonely-sympathy",
   "metadata": {},
   "outputs": [],
   "source": [
    "p = zeros(Float64, dp.index_nums...)\n",
    "for index in dp.indices\n",
    "    p[index...] = sum(dp.policy_[index..., :])\n",
    "end\n",
    "\n",
    "Seaborn.heatmap(rotl90(p[:, :, 20]))"
   ]
  },
  {
   "cell_type": "code",
   "execution_count": null,
   "id": "needed-mauritius",
   "metadata": {},
   "outputs": [],
   "source": [
    "PyPlot.clf()\n",
    "Seaborn.heatmap(rotl90(dp.value_function_[:, :, 20]))"
   ]
  },
  {
   "cell_type": "code",
   "execution_count": null,
   "id": "fancy-calvin",
   "metadata": {},
   "outputs": [],
   "source": [
    "import Seaborn, PyPlot\n",
    "import Plots: @animate, gif\n",
    "using Images\n",
    "\n",
    "sampling_num = 10\n",
    "dp = DynamicProgramming([0.1, 0.1, pi/20], Goal(-3.0, -3.0), dt=0.1);\n",
    "init_value(dp)\n",
    "init_policy(dp)\n",
    "init_state_transition_probs(dp, 0.1, sampling_num)\n",
    "init_depth(dp, world, sampling_num)\n",
    "file_names = Vector{String}(undef, 0)\n",
    "\n",
    "action_switch_rate = 1.0\n",
    "sweep_num = 0\n",
    "image_num = 0\n",
    "while action_switch_rate > 0.0001 && sweep_num < 1000\n",
    "    if (sweep_num-1) % 5 == 0\n",
    "        Seaborn.heatmap(rotl90(dp.value_function_[:, :, 20]))\n",
    "        fname = \"ch10_dp2_policy_iteration_tmp$(sweep_num).png\"\n",
    "        image_num += 1\n",
    "        Seaborn.savefig(fname)\n",
    "        PyPlot.clf()\n",
    "        push!(file_names, fname)\n",
    "    end\n",
    "    action_switch_rate = policy_iteration_sweep(dp)\n",
    "    sweep_num += 1\n",
    "    if (sweep_num-1) % 5 == 0\n",
    "        println(\"$(sweep_num)th: $(action_switch_rate)\")\n",
    "    end\n",
    "end\n",
    "anim = @animate for i in 1:image_num\n",
    "    Plots.plot(Images.load(file_names[i]), axis=nothing)\n",
    "    rm(file_names[i], force=true)\n",
    "end\n",
    "gif(anim, \"images/ch10_dp2_policy_iteration.gif\", fps=5)"
   ]
  }
 ],
 "metadata": {
  "kernelspec": {
   "display_name": "Julia 1.6.0",
   "language": "julia",
   "name": "julia-1.6"
  },
  "language_info": {
   "file_extension": ".jl",
   "mimetype": "application/julia",
   "name": "julia",
   "version": "1.6.0"
  }
 },
 "nbformat": 4,
 "nbformat_minor": 5
}
