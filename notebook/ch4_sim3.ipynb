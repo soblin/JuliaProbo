{
 "cells": [
  {
   "cell_type": "code",
   "execution_count": null,
   "id": "about-operation",
   "metadata": {},
   "outputs": [],
   "source": [
    "using Pkg\n",
    "if isfile(\"../Project.toml\") && isfile(\"../Manifest.toml\")\n",
    "    Pkg.activate(\"..\");\n",
    "end\n",
    "\n",
    "function printer(x::Any, verbose=\"\")\n",
    "    if verbose != \"\"\n",
    "        println(verbose)\n",
    "    end\n",
    "    show(stdout, \"text/plain\", x)\n",
    "    println(\"\")\n",
    "end\n",
    "\n",
    "using Plots, Random, Distributions, LinearAlgebra, JuliaProbo\n",
    "gr();"
   ]
  },
  {
   "cell_type": "code",
   "execution_count": null,
   "id": "sharp-decade",
   "metadata": {},
   "outputs": [],
   "source": [
    "xlim = [-5.0, 5.0]\n",
    "ylim = [-5.0, 5.0]\n",
    "world = World(xlim, ylim)\n",
    "circling_agent = Agent(0.2, 10.0 / 180 * pi)\n",
    "nobias_robot = IdealRobot([0.0, 0.0, 0.0], circling_agent, nothing, 0.05, \"gray\")\n",
    "push!(world, nobias_robot)\n",
    "biased_robot = RealRobot([0.0, 0.0, 0.0], circling_agent, nothing; radius=0.05, color=\"red\", noise_per_meter=0, bias_rate_stds=(0.2, 0.2))\n",
    "push!(world, biased_robot)\n",
    "dt = 0.1\n",
    "anim = @animate for i in 1:300\n",
    "    annota = \"t = $(round(dt * i, sigdigits=3))[s]\"\n",
    "    p = draw(world, annota)\n",
    "    obsv1 = observations(nobias_robot.sensor_, nobias_robot.pose_)\n",
    "    v1, ω1 = decision(circling_agent, obsv1)\n",
    "    obsv2 = observations(biased_robot.sensor_, biased_robot.pose_)\n",
    "    v2, ω2 = decision(circling_agent, obsv2)\n",
    "    state_transition(nobias_robot, v1, ω1, dt)\n",
    "    state_transition(biased_robot, v2, ω2, dt)\n",
    "end\n",
    "gif(anim, \"ch4_sim3.gif\", fps=10)"
   ]
  }
 ],
 "metadata": {
  "kernelspec": {
   "display_name": "Julia 1.5.3",
   "language": "julia",
   "name": "julia-1.5"
  },
  "language_info": {
   "file_extension": ".jl",
   "mimetype": "application/julia",
   "name": "julia",
   "version": "1.5.3"
  }
 },
 "nbformat": 4,
 "nbformat_minor": 5
}
