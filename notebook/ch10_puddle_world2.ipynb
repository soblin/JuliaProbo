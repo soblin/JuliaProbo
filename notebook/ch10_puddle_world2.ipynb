{
 "cells": [
  {
   "cell_type": "code",
   "execution_count": null,
   "id": "about-operation",
   "metadata": {},
   "outputs": [],
   "source": [
    "using Pkg\n",
    "if isfile(\"../Project.toml\") && isfile(\"../Manifest.toml\")\n",
    "    Pkg.activate(\"..\");\n",
    "    ENV[\"PYTHON\"] = \"python3\";\n",
    "end\n",
    "\n",
    "using Plots, Random, Distributions, LinearAlgebra\n",
    "import Plots: Plot\n",
    "import JuliaProbo: AbstractObject, Landmark, Map, KalmanFilter, EstimatorAgent, RealRobot, RealCamera, World, Goal, observations, push!, draw,decision, state_transition\n",
    "gr();"
   ]
  },
  {
   "cell_type": "code",
   "execution_count": null,
   "id": "returning-literature",
   "metadata": {},
   "outputs": [],
   "source": [
    "struct Puddle <: AbstractObject\n",
    "    lowerleft::Vector{Float64}\n",
    "    upperright::Vector{Float64}\n",
    "    depth::Float64\n",
    "    function Puddle(lowerleft::Vector{Float64}, upperright::Vector{Float64}, depth::Float64)\n",
    "        new(lowerleft, upperright, depth)\n",
    "    end\n",
    "end\n",
    "\n",
    "function draw(puddle::Puddle, p::Plot{T}) where {T}\n",
    "    w = puddle.upperright[1] - puddle.lowerleft[1]\n",
    "    h = puddle.upperright[2] - puddle.lowerleft[2]\n",
    "    x = puddle.lowerleft[1]\n",
    "    y = puddle.lowerleft[2]\n",
    "    shape_x, shape_y = [x, x+w, x+w, x], [y, y, y+h, y+h]\n",
    "    shapes = [(shape_x[i], shape_y[i]) for i in 1:4]\n",
    "    push!(shapes, (shape_x[1], shape_y[1]))\n",
    "    p = plot!(shapes, seriestype=:shape, fillcolor=:blue, opacity=0.15)\n",
    "end\n",
    "\n",
    "function ch10_puddle_world2()\n",
    "    dt = 0.1\n",
    "    # environment\n",
    "    xlim = [-5.0, 5.0]\n",
    "    ylim = [-5.0, 5.0]\n",
    "    # id of landmark must start from 0 with 1 step\n",
    "    landmarks =\n",
    "        [Landmark([-4.0, 2.0], 0), Landmark([2.0, -3.0], 1), Landmark([3.0, 3.0], 2)]\n",
    "    envmap = Map()\n",
    "    push!(envmap, landmarks)\n",
    "    world = World(xlim, ylim)\n",
    "    push!(world, envmap)\n",
    "    # robot side\n",
    "    initial_pose = [0.0, 0.0, 0.0]\n",
    "    estimator = KalmanFilter(envmap, initial_pose)\n",
    "    agent = EstimatorAgent(0.2, 10.0 * pi / 180, dt, estimator)\n",
    "    robot = RealRobot(initial_pose, agent, RealCamera(landmarks, distance_bias_rate_stddev = 0.0, direction_bias_stddev = 0.0); color = \"red\")\n",
    "    push!(world, robot)\n",
    "    # goal\n",
    "    goal = Goal(-3.0, -3.0)\n",
    "    push!(world, goal)\n",
    "    # puddles\n",
    "    push!(world, Puddle([-2.0, 0.0], [0.0, 2.0], 0.1))\n",
    "    push!(world, Puddle([-0.5, -2.0], [2.5, 1.0], 0.1))\n",
    "    \n",
    "    anim = @animate for i = 1:300\n",
    "        t = dt * i\n",
    "        annota = \"t = $(round(t, sigdigits=3))[s]\"\n",
    "        p = draw(world, annota)\n",
    "        z = observations(robot.sensor_, robot.pose_; noise = false, bias = false)\n",
    "        v, ω = decision(agent, z, envmap)\n",
    "        state_transition(robot, v, ω, dt; move_noise = true, vel_bias_noise = true)\n",
    "    end\n",
    "    gif(anim, \"images/ch10_puddle_world2.gif\", fps = 20)\n",
    "end\n",
    "ch10_puddle_world2()"
   ]
  },
  {
   "cell_type": "markdown",
   "id": "flush-utility",
   "metadata": {},
   "source": [
    "<img src=\"images/ch10_puddle_world2.gif\">"
   ]
  }
 ],
 "metadata": {
  "kernelspec": {
   "display_name": "Julia 1.6.0",
   "language": "julia",
   "name": "julia-1.6"
  },
  "language_info": {
   "file_extension": ".jl",
   "mimetype": "application/julia",
   "name": "julia",
   "version": "1.5.3"
  }
 },
 "nbformat": 4,
 "nbformat_minor": 5
}
