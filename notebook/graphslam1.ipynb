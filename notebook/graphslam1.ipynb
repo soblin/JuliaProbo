{
 "cells": [
  {
   "cell_type": "code",
   "execution_count": null,
   "id": "about-operation",
   "metadata": {
    "scrolled": false
   },
   "outputs": [],
   "source": [
    "using Pkg\n",
    "if isfile(\"../Project.toml\") && isfile(\"../Manifest.toml\")\n",
    "    Pkg.activate(\"..\");\n",
    "    ENV[\"PYTHON\"] = \"python3\";\n",
    "end\n",
    "\n",
    "using Plots, Random, Distributions, LinearAlgebra, JuliaProbo\n",
    "gr();"
   ]
  },
  {
   "cell_type": "code",
   "execution_count": null,
   "id": "gross-apparatus",
   "metadata": {
    "scrolled": false
   },
   "outputs": [],
   "source": [
    "function make_ax(xlim, ylim)\n",
    "    p = plot(aspect_ratio=:equal, xlim=xlim, ylim=ylim, xlabel=\"X\", ylabel=\"Y\")\n",
    "    return p\n",
    "end\n",
    "\n",
    "function draw_traj(xs, p::Plot{T}) where {T}\n",
    "    poses = [xs[s] for s in length(xs)]\n",
    "end"
   ]
  }
 ],
 "metadata": {
  "kernelspec": {
   "display_name": "Julia 1.5.3",
   "language": "julia",
   "name": "julia-1.5"
  },
  "language_info": {
   "file_extension": ".jl",
   "mimetype": "application/julia",
   "name": "julia",
   "version": "1.5.3"
  }
 },
 "nbformat": 4,
 "nbformat_minor": 5
}
