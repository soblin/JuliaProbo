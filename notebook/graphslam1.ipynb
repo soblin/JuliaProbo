{
 "cells": [
  {
   "cell_type": "code",
   "execution_count": null,
   "id": "about-operation",
   "metadata": {
    "scrolled": true
   },
   "outputs": [],
   "source": [
    "using Pkg\n",
    "if isfile(\"../Project.toml\") && isfile(\"../Manifest.toml\")\n",
    "    Pkg.activate(\"..\");\n",
    "    ENV[\"PYTHON\"] = \"python3\";\n",
    "end\n",
    "\n",
    "using Plots, Random, Distributions, LinearAlgebra, JuliaProbo\n",
    "import Plots: Plot\n",
    "gr();"
   ]
  },
  {
   "cell_type": "code",
   "execution_count": null,
   "id": "gross-apparatus",
   "metadata": {
    "scrolled": true
   },
   "outputs": [],
   "source": [
    "function make_ax(xlim, ylim)\n",
    "    p = plot(aspect_ratio=:equal, xlim=xlim, ylim=ylim, xlabel=\"X\", ylabel=\"Y\")\n",
    "    return p\n",
    "end\n",
    "\n",
    "function draw_traj!(xs, p::Plot{T}) where {T}\n",
    "    # xs is dictionary\n",
    "    poses = [xs[s] for s in 0:length(xs)-1]\n",
    "    p = scatter!([e[1] for e in poses], [e[2] for e in poses], markershape=:circle, markersize=1, color=\"black\")\n",
    "    p = plot!([e[1] for e in poses], [e[2] for e in poses], linewidth=0.5, color=\"black\")\n",
    "end\n",
    "\n",
    "function draw_observations!(\n",
    "        xs::Dict{Int64, Vector{Float64}},\n",
    "        zlist::Dict{Int64, Vector{Vector{Float64}}},\n",
    "        p::Plot{T}\n",
    "        ) where {T}\n",
    "    for s in 0:length(xs)-1\n",
    "        if !haskey(zlist, s)\n",
    "            continue\n",
    "        end\n",
    "        v = zlist[s]\n",
    "        N = size(v)[1]\n",
    "        for i in 1:N\n",
    "            x, y, θ = xs[s][1], xs[s][2], xs[s][3]\n",
    "            obsv = v[i]\n",
    "            d, ϕ = obsv[2], obsv[3]\n",
    "            mx = x + d * cos(θ + ϕ)\n",
    "            my = y + d * sin(θ + ϕ)\n",
    "            p = plot!([x, mx], [y, my], color=\"pink\", alpha=0.5)\n",
    "        end\n",
    "    end\n",
    "end\n",
    "\n",
    "function draw_all(\n",
    "        xlim, ylim,\n",
    "        xs::Dict{Int64, Vector{Float64}},\n",
    "        zlist::Dict{Int64, Vector{Vector{Float64}}},\n",
    "        p::Plot{T}\n",
    "        ) where {T}\n",
    "    p = make_ax(xlim, ylim)\n",
    "    draw_observations!(xs, zlist, p)\n",
    "    draw_traj!(xs, p)\n",
    "    return p\n",
    "end\n",
    "\n",
    "# hat_xs contains all the keys in 0:length(xs), but z does not (there are some time steps with no observation)\n",
    "function read_data(fname=\"log.txt\")\n",
    "    hat_xs = Dict{Int64, Vector{Float64}}()\n",
    "    zlist = Dict{Int64, Vector{Vector{Float64}}}()\n",
    "    delta = 0.0\n",
    "    us = Dict{Int64, Vector{Float64}}()\n",
    "\n",
    "    fd = open(fname, \"r\")\n",
    "    lines = readlines(fd)\n",
    "    for i in 1:length(lines)\n",
    "        line = lines[i]\n",
    "        tokens = split(line, ' ')\n",
    "        if tokens[1] == \"delta\"\n",
    "            delta = parse(Float64, tokens[2])\n",
    "            continue\n",
    "        end\n",
    "        step = parse(Int64, tokens[2])\n",
    "        if tokens[1] == \"x\"\n",
    "            # x, y, θ\n",
    "            hat_xs[step] = [parse(Float64, tokens[3]), parse(Float64, tokens[4]), parse(Float64, tokens[5])] \n",
    "        elseif tokens[1] == \"z\"\n",
    "            if !haskey(zlist, step)\n",
    "                zlist[step] = Vector{Vector{Float64}}(undef, 0)\n",
    "            end\n",
    "            # ID of landmark, d, ϕ, m\n",
    "            z = [parse(Float64, tokens[3]), parse(Float64, tokens[4]), parse(Float64, tokens[5]), parse(Float64, tokens[6])]\n",
    "            push!(zlist[step], copy(z))\n",
    "        elseif tokens[1] == \"u\"\n",
    "            us[step] = [parse(Float64, tokens[3]), parse(Float64, tokens[4])]\n",
    "        end\n",
    "    end\n",
    "    return hat_xs, zlist\n",
    "end"
   ]
  },
  {
   "cell_type": "code",
   "execution_count": null,
   "id": "distant-underwear",
   "metadata": {
    "scrolled": true
   },
   "outputs": [],
   "source": [
    "hat_xs, zlist = read_data();\n",
    "xlim = [-5.0, 5.0]\n",
    "ylim = [-5.0, 5.0]\n",
    "p = make_ax(xlim, ylim)\n",
    "p = draw_all(xlim, ylim, hat_xs, zlist, p)\n",
    "plot(p, legend=nothing)\n",
    "savefig(p, \"images/ch09_graphslam1.png\")"
   ]
  }
 ],
 "metadata": {
  "kernelspec": {
   "display_name": "Julia 1.6.0",
   "language": "julia",
   "name": "julia-1.6"
  },
  "language_info": {
   "file_extension": ".jl",
   "mimetype": "application/julia",
   "name": "julia",
   "version": "1.5.3"
  }
 },
 "nbformat": 4,
 "nbformat_minor": 5
}
