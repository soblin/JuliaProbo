{
 "cells": [
  {
   "cell_type": "code",
   "execution_count": null,
   "id": "about-operation",
   "metadata": {},
   "outputs": [],
   "source": [
    "using Pkg\n",
    "if isfile(\"../Project.toml\") && isfile(\"../Manifest.toml\")\n",
    "    Pkg.activate(\"..\");\n",
    "    ENV[\"PYTHON\"] = \"python3\";\n",
    "end\n",
    "\n",
    "function printer(x::Any, verbose=\"\")\n",
    "    if verbose != \"\"\n",
    "        println(verbose)\n",
    "    end\n",
    "    show(stdout, \"text/plain\", x)\n",
    "    println(\"\")\n",
    "end\n",
    "\n",
    "using Plots, Random, Distributions, LinearAlgebra, JuliaProbo\n",
    "gr();"
   ]
  },
  {
   "cell_type": "code",
   "execution_count": null,
   "id": "musical-syria",
   "metadata": {},
   "outputs": [],
   "source": [
    "motion_noise_stds = Dict(\"vv\" => 0.01, \"vω\" => 0.02, \"ωv\" => 0.03, \"ωω\" => 0.04)\n",
    "function ch05_mcl05(motion_noise_stds)\n",
    "    dt = 0.1\n",
    "    # environment\n",
    "    xlim = [-5.0, 5.0]\n",
    "    ylim = [-5.0, 5.0]\n",
    "    world = World(xlim, ylim)\n",
    "    landmarks = [Landmark([-4.0, 2.0], 0), Landmark([2.0, -3.0], 1), Landmark([3.0, 3.0], 2)]\n",
    "    m = Map()\n",
    "    push!(m, landmarks)\n",
    "\n",
    "    # robot side\n",
    "    initial_pose = [2.0, 2.0, pi/6]\n",
    "    estimator = Mcl(initial_pose, 100, motion_noise_stds)\n",
    "    circling = EstimatorAgent(0.2, 10.0 / 180 * pi, dt, estimator)\n",
    "    robot = RealRobot([2.0, 2.0, pi/6], circling, RealCamera(landmarks); color=\"red\")\n",
    "    push!(world, robot)\n",
    "    push!(world, m)\n",
    "    anim = @animate for i in 1:300\n",
    "        t = dt * i\n",
    "        annota = \"t = $(round(t, sigdigits=3))[s]\"\n",
    "        p = draw(world, annota)\n",
    "        z = observations(nothing, robot.pose_)\n",
    "        v, ω = decision(circling, z)\n",
    "        state_transition(robot, v, ω, dt)\n",
    "    end\n",
    "    gif(anim, \"images/ch05_mcl04.gif\", fps=10)\n",
    "end\n",
    "ch05_mcl05(motion_noise_stds)"
   ]
  }
 ],
 "metadata": {
  "kernelspec": {
   "display_name": "Julia 1.5.3",
   "language": "julia",
   "name": "julia-1.5"
  },
  "language_info": {
   "file_extension": ".jl",
   "mimetype": "application/julia",
   "name": "julia",
   "version": "1.5.3"
  }
 },
 "nbformat": 4,
 "nbformat_minor": 5
}
