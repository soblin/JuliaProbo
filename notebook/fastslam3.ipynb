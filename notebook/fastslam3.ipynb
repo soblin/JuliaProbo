{
 "cells": [
  {
   "cell_type": "code",
   "execution_count": 1,
   "id": "about-operation",
   "metadata": {},
   "outputs": [
    {
     "name": "stderr",
     "output_type": "stream",
     "text": [
      "\u001b[32m\u001b[1m Activating\u001b[22m\u001b[39m environment at `~/Programming/julia/notebook/JuliaProbo/Project.toml`\n",
      "┌ Info: Precompiling JuliaProbo [3c270a3a-2612-4193-9bf7-68cd93c8ae26]\n",
      "└ @ Base loading.jl:1278\n"
     ]
    }
   ],
   "source": [
    "using Pkg\n",
    "if isfile(\"../Project.toml\") && isfile(\"../Manifest.toml\")\n",
    "    Pkg.activate(\"..\");\n",
    "    ENV[\"PYTHON\"] = \"python3\";\n",
    "end\n",
    "\n",
    "function printer(x::Any, verbose=\"\")\n",
    "    if verbose != \"\"\n",
    "        println(verbose)\n",
    "    end\n",
    "    show(stdout, \"text/plain\", x)\n",
    "    println(\"\")\n",
    "end\n",
    "\n",
    "using Plots, Random, Distributions, LinearAlgebra, JuliaProbo\n",
    "gr();"
   ]
  },
  {
   "cell_type": "code",
   "execution_count": 2,
   "id": "cloudy-benchmark",
   "metadata": {},
   "outputs": [
    {
     "ename": "LoadError",
     "evalue": "\u001b[91mMethodError: no method matching draw(::Map, ::Plots.Plot{Plots.GRBackend})\u001b[39m\n\u001b[91m\u001b[0mClosest candidates are:\u001b[39m\n\u001b[91m\u001b[0m  draw(\u001b[91m::EstimatedLandmark\u001b[39m, ::Plots.Plot{T}) where T at /home/mamoru/Programming/julia/notebook/JuliaProbo/src/fastslam.jl:19\u001b[39m\n\u001b[91m\u001b[0m  draw(\u001b[91m::FastSlam\u001b[39m, ::Plots.Plot{T}) where T at /home/mamoru/Programming/julia/notebook/JuliaProbo/src/fastslam.jl:129\u001b[39m\n\u001b[91m\u001b[0m  draw(\u001b[91m::IdealRobot\u001b[39m, ::Plots.Plot{T}) where T at /home/mamoru/Programming/julia/notebook/JuliaProbo/src/robot.jl:23\u001b[39m\n\u001b[91m\u001b[0m  ...\u001b[39m",
     "output_type": "error",
     "traceback": [
      "\u001b[91mMethodError: no method matching draw(::Map, ::Plots.Plot{Plots.GRBackend})\u001b[39m\n\u001b[91m\u001b[0mClosest candidates are:\u001b[39m\n\u001b[91m\u001b[0m  draw(\u001b[91m::EstimatedLandmark\u001b[39m, ::Plots.Plot{T}) where T at /home/mamoru/Programming/julia/notebook/JuliaProbo/src/fastslam.jl:19\u001b[39m\n\u001b[91m\u001b[0m  draw(\u001b[91m::FastSlam\u001b[39m, ::Plots.Plot{T}) where T at /home/mamoru/Programming/julia/notebook/JuliaProbo/src/fastslam.jl:129\u001b[39m\n\u001b[91m\u001b[0m  draw(\u001b[91m::IdealRobot\u001b[39m, ::Plots.Plot{T}) where T at /home/mamoru/Programming/julia/notebook/JuliaProbo/src/robot.jl:23\u001b[39m\n\u001b[91m\u001b[0m  ...\u001b[39m",
      "",
      "Stacktrace:",
      " [1] draw(::World, ::String) at /home/mamoru/Programming/julia/notebook/JuliaProbo/src/world.jl:73",
      " [2] macro expansion at ./In[2]:21 [inlined]",
      " [3] macro expansion at /home/mamoru/.julia/packages/Plots/6EMd6/src/animation.jl:183 [inlined]",
      " [4] ch08_fastslam3() at ./In[2]:18",
      " [5] top-level scope at In[2]:28",
      " [6] include_string(::Function, ::Module, ::String, ::String) at ./loading.jl:1091"
     ]
    }
   ],
   "source": [
    "function ch08_fastslam3()\n",
    "    dt = 0.1\n",
    "    # environment\n",
    "    xlim = [-5.0, 5.0]\n",
    "    ylim = [-5.0, 5.0]\n",
    "    # id of landmark must start from 0 with 1 step\n",
    "    landmarks = [Landmark([2.0, -3.0], 0), Landmark([3.0, 3.0], 1), Landmark([-4.0, 2.0], 2)]\n",
    "    envmap = Map()\n",
    "    push!(envmap, landmarks)\n",
    "    world = World(xlim, ylim)\n",
    "    push!(world, envmap)\n",
    "    # robot side\n",
    "    initial_pose = [0.0, 0.0, 0.0]\n",
    "    estimator = FastSlam(initial_pose, 100, length(landmarks))\n",
    "    circling_agent = EstimatorAgent(0.2, 10.0*pi/180, dt, estimator)\n",
    "    robot = RealRobot(initial_pose, circling_agent, RealCamera(landmarks); color=\"red\")\n",
    "    push!(world, robot)\n",
    "    anim = @animate for i in 1:200\n",
    "        t = dt * i\n",
    "        annota = \"t = $(round(t, sigdigits=3))[s]\"\n",
    "        p = draw(world, annota)\n",
    "        z = observations(robot.sensor_, robot.pose_; noise=true, bias=true, phantom=true)\n",
    "        v, ω = decision(circling_agent, z, envmap)\n",
    "        state_transition(robot, v, ω, dt; move_noise=true, vel_bias_noise=true, kidnap=false)\n",
    "    end\n",
    "    gif(anim, \"images/ch08_fastslam3.gif\", fps=10)\n",
    "end\n",
    "ch08_fastslam3()"
   ]
  }
 ],
 "metadata": {
  "kernelspec": {
   "display_name": "Julia 1.5.3",
   "language": "julia",
   "name": "julia-1.5"
  },
  "language_info": {
   "file_extension": ".jl",
   "mimetype": "application/julia",
   "name": "julia",
   "version": "1.5.3"
  }
 },
 "nbformat": 4,
 "nbformat_minor": 5
}
