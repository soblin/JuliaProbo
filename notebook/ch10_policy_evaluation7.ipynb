{
 "cells": [
  {
   "cell_type": "code",
   "execution_count": null,
   "id": "about-operation",
   "metadata": {},
   "outputs": [],
   "source": [
    "using Pkg\n",
    "if isfile(\"../Project.toml\") && isfile(\"../Manifest.toml\")\n",
    "    Pkg.activate(\"..\");\n",
    "    ENV[\"PYTHON\"] = \"python3\";\n",
    "end\n",
    " \n",
    "#Pkg.build(\"PyCall\")"
   ]
  },
  {
   "cell_type": "code",
   "execution_count": null,
   "id": "generous-reduction",
   "metadata": {},
   "outputs": [],
   "source": [
    "using JuliaProbo"
   ]
  },
  {
   "cell_type": "code",
   "execution_count": null,
   "id": "powerful-bride",
   "metadata": {},
   "outputs": [],
   "source": [
    "xlim = [-5.0, 5.0]\n",
    "ylim = [-5.0, 5.0]\n",
    "world = PuddleWorld(xlim, ylim)\n",
    "push!(world, Puddle([-2.0, 0.0], [0.0, 2.0], 0.1))\n",
    "push!(world, Puddle([-0.5, -2.0], [2.5, 1.0], 0.1))"
   ]
  },
  {
   "cell_type": "code",
   "execution_count": null,
   "id": "skilled-conclusion",
   "metadata": {},
   "outputs": [],
   "source": [
    "import Seaborn, Images, PyPlot\n",
    "import Plots: @animate, gif\n",
    "\n",
    "sampling_num = 10\n",
    "pe = PolicyEvaluator([0.1, 0.1, pi/20], Goal(-3.0, -3.0), dt=0.1);\n",
    "init_value(pe)\n",
    "init_policy(pe)\n",
    "init_state_transition_probs(pe, 0.1, sampling_num)\n",
    "init_depth(pe, world, sampling_num)\n",
    "file_names = Vector{String}(undef, 0)\n",
    "\n",
    "Δ = 1e100\n",
    "sweep_num = 0\n",
    "while Δ > 0.01\n",
    "    Seaborn.heatmap(rotl90(pe.value_function_[:, :, 20]))\n",
    "    fname = \"ch10_policy_evaluation6_tmp$(sweep_num).png\"\n",
    "    Seaborn.savefig(fname)\n",
    "    PyPlot.close(\"all\")\n",
    "    push!(file_names, fname)\n",
    "    Δ = policy_evaluation_sweep(pe)\n",
    "    sweep_num += 1\n",
    "    println(\"$(sweep_num): Δ = $(Δ)\")\n",
    "end\n",
    "anim = @animate for i in 1:sweep_num\n",
    "    Plots.plot(Images.load(file_names[i]), axis=nothing)\n",
    "    rm(file_names[i], force=true)\n",
    "end\n",
    "gif(anim, \"images/ch10_policy_evaluation7.gif\", fps=10)"
   ]
  }
 ],
 "metadata": {
  "kernelspec": {
   "display_name": "Julia 1.6.0",
   "language": "julia",
   "name": "julia-1.6"
  },
  "language_info": {
   "file_extension": ".jl",
   "mimetype": "application/julia",
   "name": "julia",
   "version": "1.6.0"
  }
 },
 "nbformat": 4,
 "nbformat_minor": 5
}
