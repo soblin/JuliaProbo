{
 "cells": [
  {
   "cell_type": "code",
   "execution_count": null,
   "id": "general-roller",
   "metadata": {},
   "outputs": [],
   "source": [
    "using Pkg\n",
    "if isfile(\"../Project.toml\") && isfile(\"../Manifest.toml\")\n",
    "    Pkg.activate(\"..\");\n",
    "    ENV[\"PYTHON\"] = \"python3\";\n",
    "end\n",
    "\n",
    "function printer(x::Any, verbose=\"\")\n",
    "    if verbose != \"\"\n",
    "        println(verbose)\n",
    "    end\n",
    "    show(stdout, \"text/plain\", x)\n",
    "    println(\"\")\n",
    "end"
   ]
  },
  {
   "cell_type": "code",
   "execution_count": null,
   "id": "amino-athletics",
   "metadata": {},
   "outputs": [],
   "source": [
    "using CSV, DataFrames, Plots, Statistics, StatsBase, Random, Distributions, LinearAlgebra\n",
    "gr();"
   ]
  },
  {
   "cell_type": "code",
   "execution_count": null,
   "id": "civic-hypothesis",
   "metadata": {},
   "outputs": [],
   "source": [
    "mutable struct IdealRobot\n",
    "    pose_::Array{Float64, 1}\n",
    "    radius_::Float64\n",
    "    color_::String\n",
    "    function IdealRobot(pose::AbstractArray{Float64, 1}, radius=0.2, color=\"blue\")\n",
    "        new([pose[1], pose[2], pose[3]], radius, color)\n",
    "    end\n",
    "end\n",
    "\n",
    "function draw(robot::IdealRobot, p)\n",
    "    p = scatter!([robot.pose_[1]], [robot.pose_[2]], markersize=robot.radius_ * 100, color=robot.color_, markeralpha=0.5, legend=nothing, aspect_ratio=:equal)\n",
    "    θ = robot.pose_[3]\n",
    "    p = quiver!([robot.pose_[1]], [robot.pose_[2]], quiver=([robot.radius_ * cos(θ)], [robot.radius_ * sin(θ)]),  lw=1, color=\"black\")\n",
    "end\n",
    "\n",
    "mutable struct World\n",
    "    objects_::Array{Any, 1}\n",
    "    debug_::Bool\n",
    "    function World(debug=false)\n",
    "        new(Array{Any, 1}[], debug)\n",
    "    end\n",
    "end\n",
    "\n",
    "function Base.push!(world::World, robot::IdealRobot)\n",
    "    push!(world.objects_, robot)\n",
    "end\n",
    "\n",
    "function draw(world::World)\n",
    "    p = plot(aspect_ratio=:equal)\n",
    "    for obj = world.objects_\n",
    "        draw(obj, p)\n",
    "    end\n",
    "    return p\n",
    "end"
   ]
  },
  {
   "cell_type": "code",
   "execution_count": null,
   "id": "democratic-relaxation",
   "metadata": {},
   "outputs": [],
   "source": [
    "robot1 = IdealRobot([2.0, 3.0, pi/6], 0.1, \"blue\")\n",
    "robot2 = IdealRobot([-2.0, -1.0, pi*5/6], 0.08, \"orange\")\n",
    "world = World()\n",
    "push!(world, robot1)\n",
    "push!(world, robot2)\n",
    "p = draw(world)\n",
    "println(typeof(p))\n",
    "plot(p)\n"
   ]
  }
 ],
 "metadata": {
  "kernelspec": {
   "display_name": "Julia 1.5.3",
   "language": "julia",
   "name": "julia-1.5.3"
  },
  "language_info": {
   "file_extension": ".jl",
   "mimetype": "application/julia",
   "name": "julia",
   "version": "1.5.3"
  }
 },
 "nbformat": 4,
 "nbformat_minor": 5
}
