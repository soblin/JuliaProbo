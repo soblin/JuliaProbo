{
 "cells": [
  {
   "cell_type": "code",
   "execution_count": null,
   "id": "about-operation",
   "metadata": {},
   "outputs": [],
   "source": [
    "using Pkg\n",
    "if isfile(\"../Project.toml\") && isfile(\"../Manifest.toml\")\n",
    "    Pkg.activate(\"..\");\n",
    "    ENV[\"PYTHON\"] = \"python3\";\n",
    "end\n",
    "\n",
    "using Plots, Random, Distributions, LinearAlgebra\n",
    "import Plots: Plot\n",
    "import JuliaProbo: AbstractObject, Landmark, Map, KalmanFilter, EstimatorAgent, RealRobot, RealCamera, World, observations, push!, draw,decision, state_transition\n",
    "gr();"
   ]
  },
  {
   "cell_type": "code",
   "execution_count": null,
   "id": "returning-literature",
   "metadata": {},
   "outputs": [],
   "source": [
    "struct  Goal <: AbstractObject\n",
    "    x::Float64\n",
    "    y::Float64\n",
    "    radius::Float64\n",
    "    function Goal(x::Float64, y::Float64, radius = 0.3)\n",
    "        new(x, y, radius)\n",
    "    end\n",
    "end\n",
    "\n",
    "function draw(g::Goal, p::Plot{T}) where {T}\n",
    "    p = plot!([g.x, g.x], [g.y, g.y+0.6], color=\"black\", linewidth=2.0)\n",
    "    p = plot!([g.x + 0.08], [g.y + 0.5], markershape=:rtriangle, markersize=9, color=\"red\")\n",
    "end\n",
    "\n",
    "function ch10_puddle_world1()\n",
    "    dt = 0.1\n",
    "    # environment\n",
    "    xlim = [-5.0, 5.0]\n",
    "    ylim = [-5.0, 5.0]\n",
    "    # id of landmark must start from 0 with 1 step\n",
    "    landmarks =\n",
    "        [Landmark([-4.0, 2.0], 0), Landmark([2.0, -3.0], 1), Landmark([3.0, 3.0], 2)]\n",
    "    envmap = Map()\n",
    "    push!(envmap, landmarks)\n",
    "    world = World(xlim, ylim)\n",
    "    push!(world, envmap)\n",
    "    # robot side\n",
    "    initial_pose = [0.0, 0.0, 0.0]\n",
    "    estimator = KalmanFilter(envmap, initial_pose)\n",
    "    agent = EstimatorAgent(0.2, 10.0 * pi / 180, dt, estimator)\n",
    "    robot = RealRobot(initial_pose, agent, RealCamera(landmarks, distance_bias_rate_stddev = 0.0, direction_bias_stddev = 0.0); color = \"red\")\n",
    "    push!(world, robot)\n",
    "    goal = Goal(-3.0, -3.0)\n",
    "    push!(world, goal)\n",
    "    \n",
    "    anim = @animate for i = 1:300\n",
    "        t = dt * i\n",
    "        annota = \"t = $(round(t, sigdigits=3))[s]\"\n",
    "        p = draw(world, annota)\n",
    "        z = observations(robot.sensor_, robot.pose_; noise = false, bias = false)\n",
    "        v, ω = decision(agent, z, envmap)\n",
    "        state_transition(robot, v, ω, dt; move_noise = true, vel_bias_noise = true)\n",
    "    end\n",
    "    gif(anim, \"images/ch10_puddle_world1.gif\", fps = 20)\n",
    "end\n",
    "ch10_puddle_world1()"
   ]
  },
  {
   "cell_type": "markdown",
   "id": "flush-utility",
   "metadata": {},
   "source": [
    "<img src=\"images/ch10_puddle_world1.gif\">"
   ]
  }
 ],
 "metadata": {
  "kernelspec": {
   "display_name": "Julia 1.6.0",
   "language": "julia",
   "name": "julia-1.6"
  },
  "language_info": {
   "file_extension": ".jl",
   "mimetype": "application/julia",
   "name": "julia",
   "version": "1.6.0"
  }
 },
 "nbformat": 4,
 "nbformat_minor": 5
}
