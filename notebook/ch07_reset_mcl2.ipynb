{
 "cells": [
  {
   "cell_type": "code",
   "execution_count": null,
   "id": "about-operation",
   "metadata": {},
   "outputs": [],
   "source": [
    "using Pkg\n",
    "if isfile(\"../Project.toml\") && isfile(\"../Manifest.toml\")\n",
    "    Pkg.activate(\"..\");\n",
    "    ENV[\"PYTHON\"] = \"python3\";\n",
    "end\n",
    "\n",
    "function printer(x::Any, verbose=\"\")\n",
    "    if verbose != \"\"\n",
    "        println(verbose)\n",
    "    end\n",
    "    show(stdout, \"text/plain\", x)\n",
    "    println(\"\")\n",
    "end\n",
    "\n",
    "using Plots, Random, Distributions, LinearAlgebra, JuliaProbo\n",
    "gr();"
   ]
  },
  {
   "cell_type": "code",
   "execution_count": null,
   "id": "timely-boxing",
   "metadata": {},
   "outputs": [],
   "source": [
    "function ch07_reset_mcl2()\n",
    "    dt = 0.1\n",
    "    # environment\n",
    "    xlim = [-5.0, 5.0]\n",
    "    ylim = [-5.0, 5.0]\n",
    "    # id of landmark must start from 0 with 1 step\n",
    "    landmarks = [Landmark([2.0, -3.0], 0), Landmark([3.0, 3.0], 1), Landmark([-4.0, 2.0], 2)]\n",
    "    envmap = Map()\n",
    "    push!(envmap, landmarks)\n",
    "    world = World(xlim, ylim)\n",
    "    push!(world, envmap)\n",
    "    # robot side\n",
    "    initial_pose = [0.0, 0.0, 0.0]\n",
    "    estimator = ResetMcl(initial_pose, 100; xlim=xlim, ylim=ylim, α_threshold=0.005)\n",
    "    circling_agent = EstimatorAgent(0.2, 10.0*pi/180, dt, estimator)\n",
    "    robot = RealRobot(initial_pose, circling_agent, RealCamera(landmarks); color=\"red\", expected_kidnap_time=30)\n",
    "    push!(world, robot)\n",
    "    anim = @animate for i in 1:600\n",
    "        t = dt * i\n",
    "        annota = \"t = $(round(t, sigdigits=3))[s]\"\n",
    "        p = draw(world, annota)\n",
    "        z = observations(robot.sensor_, robot.pose_; noise=true, bias=true)\n",
    "        v, ω = decision(circling_agent, z, envmap)\n",
    "        state_transition(robot, v, ω, dt; move_noise=true, vel_bias_noise=true, kidnap=true)\n",
    "    end\n",
    "    gif(anim, \"images/ch07_reset_mcl2.gif\", fps=10)\n",
    "    return estimator\n",
    "end"
   ]
  },
  {
   "cell_type": "code",
   "execution_count": null,
   "id": "blocked-behalf",
   "metadata": {},
   "outputs": [],
   "source": [
    "pf = ch07_reset_mcl2();"
   ]
  }
 ],
 "metadata": {
  "kernelspec": {
   "display_name": "Julia 1.6.0",
   "language": "julia",
   "name": "julia-1.6.3"
  },
  "language_info": {
   "file_extension": ".jl",
   "mimetype": "application/julia",
   "name": "julia",
   "version": "1.5.3"
  }
 },
 "nbformat": 4,
 "nbformat_minor": 5
}
