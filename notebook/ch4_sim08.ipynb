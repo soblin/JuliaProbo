{
 "cells": [
  {
   "cell_type": "code",
   "execution_count": null,
   "id": "about-operation",
   "metadata": {},
   "outputs": [],
   "source": [
    "using Pkg\n",
    "if isfile(\"../Project.toml\") && isfile(\"../Manifest.toml\")\n",
    "    Pkg.activate(\"..\");\n",
    "    ENV[\"PYTHON\"] = \"python3\";\n",
    "    Pkg.precompile();\n",
    "end\n",
    "\n",
    "function printer(x::Any, verbose=\"\")\n",
    "    if verbose != \"\"\n",
    "        println(verbose)\n",
    "    end\n",
    "    show(stdout, \"text/plain\", x)\n",
    "    println(\"\")\n",
    "end\n",
    "\n",
    "using Plots, Random, Distributions, LinearAlgebra, JuliaProbo\n",
    "gr();"
   ]
  },
  {
   "cell_type": "code",
   "execution_count": null,
   "id": "higher-realtor",
   "metadata": {},
   "outputs": [],
   "source": [
    "function main()\n",
    "    xlim = [-5.0, 5.0]\n",
    "    ylim = [-5.0, 5.0]\n",
    "    world = World(xlim, ylim)\n",
    "    straight_agent = Agent(0.2, 0.0)\n",
    "    landmarks = [Landmark([-4.0, 2.0], 0), Landmark([3.0, -3.0], 1), Landmark([3.0, 3.0], 2), Landmark([3.0, -2.0], 3), Landmark([3.0, 0.0], 4), Landmark([3.0, 1.0], 5)]\n",
    "    m = Map()\n",
    "    push!(m, landmarks)\n",
    "    robot = RealRobot([0.0, 0.0, 0.0], straight_agent, RealCamera(landmarks); color=\"red\")\n",
    "    push!(world, robot)\n",
    "    push!(world, m)\n",
    "    dt = 0.1\n",
    "    anim = @animate for i in 1:100\n",
    "        t = dt * i\n",
    "        annota = \"t = $(round(t, sigdigits=3))[s]\"\n",
    "        p = draw(world, annota)\n",
    "        plot(p)\n",
    "        obsv = observations(robot.sensor_, robot.pose_; noise=true, bias=true)\n",
    "        v, ω = decision(straight_agent, obsv)\n",
    "        state_transition(robot, v, ω, dt)\n",
    "    end\n",
    "    gif(anim, \"images/ch4_sim08.gif\", fps=10)\n",
    "end\n",
    "main()"
   ]
  }
 ],
 "metadata": {
  "kernelspec": {
   "display_name": "Julia 1.6.0",
   "language": "julia",
   "name": "julia-1.6.3"
  },
  "language_info": {
   "file_extension": ".jl",
   "mimetype": "application/julia",
   "name": "julia",
   "version": "1.5.3"
  }
 },
 "nbformat": 4,
 "nbformat_minor": 5
}
