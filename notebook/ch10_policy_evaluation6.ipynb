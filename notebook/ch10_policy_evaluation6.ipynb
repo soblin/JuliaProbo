{
 "cells": [
  {
   "cell_type": "code",
   "execution_count": null,
   "id": "about-operation",
   "metadata": {},
   "outputs": [],
   "source": [
    "using Pkg\n",
    "if isfile(\"../Project.toml\") && isfile(\"../Manifest.toml\")\n",
    "    Pkg.activate(\"..\");\n",
    "    ENV[\"PYTHON\"] = \"python3\";\n",
    "end\n",
    " \n",
    "#Pkg.build(\"PyCall\")"
   ]
  },
  {
   "cell_type": "code",
   "execution_count": null,
   "id": "generous-reduction",
   "metadata": {},
   "outputs": [],
   "source": [
    "using JuliaProbo"
   ]
  },
  {
   "cell_type": "code",
   "execution_count": null,
   "id": "powerful-bride",
   "metadata": {},
   "outputs": [],
   "source": [
    "xlim = [-5.0, 5.0]\n",
    "ylim = [-5.0, 5.0]\n",
    "world = PuddleWorld(xlim, ylim)\n",
    "push!(world, Puddle([-2.0, 0.0], [0.0, 2.0], 0.1))\n",
    "push!(world, Puddle([-0.5, -2.0], [2.5, 1.0], 0.1))"
   ]
  },
  {
   "cell_type": "code",
   "execution_count": null,
   "id": "excessive-swift",
   "metadata": {},
   "outputs": [],
   "source": [
    "function out_correction(pe::PolicyEvaluator, index::Vector{Int64})\n",
    "    θ_ind = (index[3] + pe.index_nums[3]) % (pe.index_nums[3])\n",
    "    if θ_ind == 0\n",
    "        θ_ind = pe.index_nums[3]\n",
    "    end\n",
    "    return (index[1], index[2], θ_ind,)\n",
    "end\n",
    "\n",
    "function action_value(pe::PolicyEvaluator, index::Vector{Int64}, value_function::AbstractArray{Float64, 3})\n",
    "    v, ω = pe.policy_[index..., :]\n",
    "    value = 0.0\n",
    "    state_transition_probs = pe.state_transition_probs\n",
    "    for trans_probs in state_transition_probs[(v, ω, index[3],)]\n",
    "        trans_ind = trans_probs[1]\n",
    "        prob = trans_probs[2]\n",
    "        after_ = [index...] .+ trans_ind\n",
    "        after = out_correction(pe, after_)\n",
    "        reward = -pe.dt * pe.depth[after[1], after[2]] * pe.puddle_coeff - pe.dt\n",
    "        value += (value_function[after...] + reward) * prob\n",
    "    end\n",
    "    return value\n",
    "end\n",
    "\n",
    "function policy_evaluation_sweep(pe::PolicyEvaluator)\n",
    "    indices = pe.indices\n",
    "    final_state_flags = pe.final_state_flags_\n",
    "    value_function = copy(pe.value_function_)\n",
    "    for index in indices\n",
    "        if final_state_flags[index...] == 0.0\n",
    "            pe.value_function_[index...] = action_value(pe, [index...], value_function)\n",
    "        end\n",
    "    end\n",
    "end"
   ]
  },
  {
   "cell_type": "code",
   "execution_count": null,
   "id": "skilled-conclusion",
   "metadata": {},
   "outputs": [],
   "source": [
    "import Seaborn, Images, PyPlot\n",
    "import Plots: @animate, gif\n",
    "\n",
    "sampling_num = 10\n",
    "pe = PolicyEvaluator([0.1, 0.1, pi/20], Goal(-3.0, -3.0), dt=0.1);\n",
    "init_value(pe)\n",
    "init_policy(pe)\n",
    "init_state_transition_probs(pe, 0.1, sampling_num)\n",
    "init_depth(pe, world, sampling_num)\n",
    "sweep_num = 300\n",
    "file_names = Vector{String}(undef, 0)\n",
    "\n",
    "for i in 1:sweep_num\n",
    "    Seaborn.heatmap(rotl90(pe.value_function_[:, :, 20]))\n",
    "    fname = \"ch10_policy_evaluation6_tmp$(i).png\"\n",
    "    Seaborn.savefig(fname)\n",
    "    PyPlot.close(\"all\")\n",
    "    push!(file_names, fname)\n",
    "    policy_evaluation_sweep(pe)\n",
    "end\n",
    "anim = @animate for i in 1:sweep_num\n",
    "    Plots.plot(Images.load(file_names[i]), axis=nothing)\n",
    "    rm(file_names[i], force=true)\n",
    "end\n",
    "gif(anim, \"images/ch10_policy_evaluation6.gif\", fps=10)"
   ]
  },
  {
   "cell_type": "code",
   "execution_count": null,
   "id": "preliminary-earthquake",
   "metadata": {},
   "outputs": [],
   "source": [
    "sampling_num = 10\n",
    "pe = PolicyEvaluator([0.1, 0.1, pi/20], Goal(-3.0, -3.0), dt=0.1);\n",
    "init_value(pe)\n",
    "init_policy(pe)\n",
    "init_state_transition_probs(pe, 0.1, sampling_num)\n",
    "init_depth(pe, world, sampling_num)\n",
    "sweep_num = 10\n",
    "file_names = Vector{String}(undef, 0)\n",
    "\n",
    "using PyPlot\n",
    "using PyCall\n",
    "using Seaborn\n",
    "using Base64\n",
    "@pyimport matplotlib.animation as anim\n",
    "fig = figure(\"MyFigure\",figsize=(5,5))\n",
    "function animate(i)\n",
    "    PyPlot.clf()\n",
    "    p = Seaborn.heatmap(rotl90(pe.value_function_[:, :, 20]))\n",
    "    policy_evaluation_sweep(pe)    \n",
    "    return p\n",
    "end\n",
    "@time myanim = anim.FuncAnimation(fig, animate, frames=sweep_num, interval=100);\n",
    "println(\"Done.\")\n",
    "@time myanim[:save](\"images/ch10_policy_evaluation6.mp4\");\n",
    "PyPlot.close(\"all\")\n",
    "println(\"Saved.\")\n",
    "# https://genkuroki.github.io/documents/Jupyter/20170624%20Examples%20of%20animations%20in%20Julia%20by%20PyPlot%20and%20matplotlib.animation.html\n",
    "function html_video(filename)\n",
    "    open(filename) do f\n",
    "        base64_video = base64encode(f)\n",
    "        \"\"\"<video controls src=\"data:video/x-m4v;base64,$base64_video\">\"\"\"\n",
    "    end\n",
    "end\n",
    "display(\"text/html\", html_video(\"images/ch10_policy_evaluation6.mp4\"));"
   ]
  }
 ],
 "metadata": {
  "kernelspec": {
   "display_name": "Julia 1.6.0",
   "language": "julia",
   "name": "julia-1.6"
  },
  "language_info": {
   "file_extension": ".jl",
   "mimetype": "application/julia",
   "name": "julia",
   "version": "1.6.0"
  }
 },
 "nbformat": 4,
 "nbformat_minor": 5
}
